{
 "cells": [
  {
   "cell_type": "markdown",
   "id": "realistic-hampshire",
   "metadata": {},
   "source": [
    "# Cayla Mason\n",
    "# PH700A Assignment 2"
   ]
  },
  {
   "cell_type": "code",
   "execution_count": 1,
   "id": "hundred-termination",
   "metadata": {
    "collapsed": true
   },
   "outputs": [
    {
     "name": "stderr",
     "output_type": "stream",
     "text": [
      "── \u001b[1mAttaching packages\u001b[22m ─────────────────────────────────────── tidyverse 1.3.0 ──\n",
      "\n",
      "\u001b[32m✔\u001b[39m \u001b[34mggplot2\u001b[39m 3.3.2     \u001b[32m✔\u001b[39m \u001b[34mpurrr  \u001b[39m 0.3.4\n",
      "\u001b[32m✔\u001b[39m \u001b[34mtibble \u001b[39m 3.0.3     \u001b[32m✔\u001b[39m \u001b[34mdplyr  \u001b[39m 1.0.2\n",
      "\u001b[32m✔\u001b[39m \u001b[34mtidyr  \u001b[39m 1.1.2     \u001b[32m✔\u001b[39m \u001b[34mstringr\u001b[39m 1.4.0\n",
      "\u001b[32m✔\u001b[39m \u001b[34mreadr  \u001b[39m 1.3.1     \u001b[32m✔\u001b[39m \u001b[34mforcats\u001b[39m 0.5.0\n",
      "\n",
      "── \u001b[1mConflicts\u001b[22m ────────────────────────────────────────── tidyverse_conflicts() ──\n",
      "\u001b[31m✖\u001b[39m \u001b[34mdplyr\u001b[39m::\u001b[32mfilter()\u001b[39m masks \u001b[34mstats\u001b[39m::filter()\n",
      "\u001b[31m✖\u001b[39m \u001b[34mdplyr\u001b[39m::\u001b[32mlag()\u001b[39m    masks \u001b[34mstats\u001b[39m::lag()\n",
      "\n",
      "\n",
      "Attaching package: ‘magrittr’\n",
      "\n",
      "\n",
      "The following object is masked from ‘package:purrr’:\n",
      "\n",
      "    set_names\n",
      "\n",
      "\n",
      "The following object is masked from ‘package:tidyr’:\n",
      "\n",
      "    extract\n",
      "\n",
      "\n"
     ]
    }
   ],
   "source": [
    "library(tidyverse)\n",
    "library(magrittr)"
   ]
  },
  {
   "cell_type": "code",
   "execution_count": 2,
   "id": "inclusive-removal",
   "metadata": {
    "scrolled": false
   },
   "outputs": [
    {
     "data": {
      "text/html": [
       "<table>\n",
       "<caption>A data.frame: 3 × 13</caption>\n",
       "<thead>\n",
       "\t<tr><th></th><th scope=col>position</th><th scope=col>REF</th><th scope=col>ALT</th><th scope=col>consequence</th><th scope=col>gene</th><th scope=col>Rv.number</th><th scope=col>gene.position</th><th scope=col>protein.position</th><th scope=col>AA</th><th scope=col>total_mut</th><th scope=col>total_mut_res</th><th scope=col>inh</th><th scope=col>lineages</th></tr>\n",
       "\t<tr><th></th><th scope=col>&lt;int&gt;</th><th scope=col>&lt;chr&gt;</th><th scope=col>&lt;chr&gt;</th><th scope=col>&lt;chr&gt;</th><th scope=col>&lt;chr&gt;</th><th scope=col>&lt;chr&gt;</th><th scope=col>&lt;chr&gt;</th><th scope=col>&lt;chr&gt;</th><th scope=col>&lt;chr&gt;</th><th scope=col>&lt;int&gt;</th><th scope=col>&lt;int&gt;</th><th scope=col>&lt;chr&gt;</th><th scope=col>&lt;int&gt;</th></tr>\n",
       "</thead>\n",
       "<tbody>\n",
       "\t<tr><th scope=row>1</th><td>17654</td><td>T</td><td>G   </td><td>missense_variant     </td><td>pknA</td><td>Rv0015c</td><td>1109</td><td>370</td><td>Q/P</td><td>160</td><td>23</td><td>S</td><td>3</td></tr>\n",
       "\t<tr><th scope=row>2</th><td>17657</td><td>T</td><td>C   </td><td>missense_variant     </td><td>pknA</td><td>Rv0015c</td><td>1106</td><td>369</td><td>Q/R</td><td>159</td><td>23</td><td>S</td><td>3</td></tr>\n",
       "\t<tr><th scope=row>3</th><td>23811</td><td>T</td><td>TTGC</td><td>upstream_gene_variant</td><td>fhaB</td><td>Rv0019c</td><td>    </td><td>   </td><td>   </td><td> 11</td><td> 9</td><td>S</td><td>2</td></tr>\n",
       "</tbody>\n",
       "</table>\n"
      ],
      "text/latex": [
       "A data.frame: 3 × 13\n",
       "\\begin{tabular}{r|lllllllllllll}\n",
       "  & position & REF & ALT & consequence & gene & Rv.number & gene.position & protein.position & AA & total\\_mut & total\\_mut\\_res & inh & lineages\\\\\n",
       "  & <int> & <chr> & <chr> & <chr> & <chr> & <chr> & <chr> & <chr> & <chr> & <int> & <int> & <chr> & <int>\\\\\n",
       "\\hline\n",
       "\t1 & 17654 & T & G    & missense\\_variant      & pknA & Rv0015c & 1109 & 370 & Q/P & 160 & 23 & S & 3\\\\\n",
       "\t2 & 17657 & T & C    & missense\\_variant      & pknA & Rv0015c & 1106 & 369 & Q/R & 159 & 23 & S & 3\\\\\n",
       "\t3 & 23811 & T & TTGC & upstream\\_gene\\_variant & fhaB & Rv0019c &      &     &     &  11 &  9 & S & 2\\\\\n",
       "\\end{tabular}\n"
      ],
      "text/markdown": [
       "\n",
       "A data.frame: 3 × 13\n",
       "\n",
       "| <!--/--> | position &lt;int&gt; | REF &lt;chr&gt; | ALT &lt;chr&gt; | consequence &lt;chr&gt; | gene &lt;chr&gt; | Rv.number &lt;chr&gt; | gene.position &lt;chr&gt; | protein.position &lt;chr&gt; | AA &lt;chr&gt; | total_mut &lt;int&gt; | total_mut_res &lt;int&gt; | inh &lt;chr&gt; | lineages &lt;int&gt; |\n",
       "|---|---|---|---|---|---|---|---|---|---|---|---|---|---|\n",
       "| 1 | 17654 | T | G    | missense_variant      | pknA | Rv0015c | 1109 | 370 | Q/P | 160 | 23 | S | 3 |\n",
       "| 2 | 17657 | T | C    | missense_variant      | pknA | Rv0015c | 1106 | 369 | Q/R | 159 | 23 | S | 3 |\n",
       "| 3 | 23811 | T | TTGC | upstream_gene_variant | fhaB | Rv0019c | <!----> | <!----> | <!----> |  11 |  9 | S | 2 |\n",
       "\n"
      ],
      "text/plain": [
       "  position REF ALT  consequence           gene Rv.number gene.position\n",
       "1 17654    T   G    missense_variant      pknA Rv0015c   1109         \n",
       "2 17657    T   C    missense_variant      pknA Rv0015c   1106         \n",
       "3 23811    T   TTGC upstream_gene_variant fhaB Rv0019c                \n",
       "  protein.position AA  total_mut total_mut_res inh lineages\n",
       "1 370              Q/P 160       23            S   3       \n",
       "2 369              Q/R 159       23            S   3       \n",
       "3                       11        9            S   2       "
      ]
     },
     "metadata": {},
     "output_type": "display_data"
    }
   ],
   "source": [
    "# read in aggregated data\n",
    "vcf.agg <- read.csv(\"class_vcf_aggregated-1.csv\", header = TRUE, sep = '\\t')\n",
    "head(vcf.agg, n=3)"
   ]
  },
  {
   "cell_type": "code",
   "execution_count": 3,
   "id": "statewide-encyclopedia",
   "metadata": {},
   "outputs": [
    {
     "name": "stderr",
     "output_type": "stream",
     "text": [
      "Warning message in eval(expr, envir, enclos):\n",
      "“NAs introduced by coercion”\n",
      "Warning message in eval(expr, envir, enclos):\n",
      "“NAs introduced by coercion”\n",
      "Note: Using an external vector in selections is ambiguous.\n",
      "\u001b[34mℹ\u001b[39m Use `all_of(cols)` instead of `cols` to silence this message.\n",
      "\u001b[34mℹ\u001b[39m See <https://tidyselect.r-lib.org/reference/faq-external-vector.html>.\n",
      "\u001b[90mThis message is displayed once per session.\u001b[39m\n",
      "\n"
     ]
    },
    {
     "data": {
      "text/html": [
       "<table>\n",
       "<caption>A data.frame: 6 × 13</caption>\n",
       "<thead>\n",
       "\t<tr><th></th><th scope=col>position</th><th scope=col>REF</th><th scope=col>ALT</th><th scope=col>consequence</th><th scope=col>gene</th><th scope=col>Rv.number</th><th scope=col>gene.position</th><th scope=col>protein.position</th><th scope=col>AA</th><th scope=col>total_mut</th><th scope=col>total_mut_res</th><th scope=col>inh</th><th scope=col>lineages</th></tr>\n",
       "\t<tr><th></th><th scope=col>&lt;int&gt;</th><th scope=col>&lt;chr&gt;</th><th scope=col>&lt;chr&gt;</th><th scope=col>&lt;fct&gt;</th><th scope=col>&lt;fct&gt;</th><th scope=col>&lt;chr&gt;</th><th scope=col>&lt;dbl&gt;</th><th scope=col>&lt;dbl&gt;</th><th scope=col>&lt;chr&gt;</th><th scope=col>&lt;int&gt;</th><th scope=col>&lt;int&gt;</th><th scope=col>&lt;fct&gt;</th><th scope=col>&lt;int&gt;</th></tr>\n",
       "</thead>\n",
       "<tbody>\n",
       "\t<tr><th scope=row>1</th><td>17654</td><td>T</td><td>G   </td><td>missense_variant     </td><td>pknA</td><td>Rv0015c</td><td>1109</td><td>370</td><td>Q/P</td><td>160</td><td> 23</td><td>S</td><td>3</td></tr>\n",
       "\t<tr><th scope=row>2</th><td>17657</td><td>T</td><td>C   </td><td>missense_variant     </td><td>pknA</td><td>Rv0015c</td><td>1106</td><td>369</td><td>Q/R</td><td>159</td><td> 23</td><td>S</td><td>3</td></tr>\n",
       "\t<tr><th scope=row>3</th><td>23811</td><td>T</td><td>TTGC</td><td>upstream_gene_variant</td><td>fhaB</td><td>Rv0019c</td><td>  NA</td><td> NA</td><td>   </td><td> 11</td><td>  9</td><td>S</td><td>2</td></tr>\n",
       "\t<tr><th scope=row>4</th><td>24698</td><td>G</td><td>C   </td><td>synonymous_variant   </td><td>fhaA</td><td>Rv0020c</td><td> 747</td><td>249</td><td>G  </td><td>219</td><td> 94</td><td>S</td><td>4</td></tr>\n",
       "\t<tr><th scope=row>5</th><td>24704</td><td>T</td><td>C   </td><td>synonymous_variant   </td><td>fhaA</td><td>Rv0020c</td><td> 741</td><td>247</td><td>Q  </td><td>327</td><td>138</td><td>S</td><td>5</td></tr>\n",
       "\t<tr><th scope=row>6</th><td>24707</td><td>C</td><td>G   </td><td>missense_variant     </td><td>fhaA</td><td>Rv0020c</td><td> 738</td><td>246</td><td>E/D</td><td>339</td><td>145</td><td>S</td><td>5</td></tr>\n",
       "</tbody>\n",
       "</table>\n"
      ],
      "text/latex": [
       "A data.frame: 6 × 13\n",
       "\\begin{tabular}{r|lllllllllllll}\n",
       "  & position & REF & ALT & consequence & gene & Rv.number & gene.position & protein.position & AA & total\\_mut & total\\_mut\\_res & inh & lineages\\\\\n",
       "  & <int> & <chr> & <chr> & <fct> & <fct> & <chr> & <dbl> & <dbl> & <chr> & <int> & <int> & <fct> & <int>\\\\\n",
       "\\hline\n",
       "\t1 & 17654 & T & G    & missense\\_variant      & pknA & Rv0015c & 1109 & 370 & Q/P & 160 &  23 & S & 3\\\\\n",
       "\t2 & 17657 & T & C    & missense\\_variant      & pknA & Rv0015c & 1106 & 369 & Q/R & 159 &  23 & S & 3\\\\\n",
       "\t3 & 23811 & T & TTGC & upstream\\_gene\\_variant & fhaB & Rv0019c &   NA &  NA &     &  11 &   9 & S & 2\\\\\n",
       "\t4 & 24698 & G & C    & synonymous\\_variant    & fhaA & Rv0020c &  747 & 249 & G   & 219 &  94 & S & 4\\\\\n",
       "\t5 & 24704 & T & C    & synonymous\\_variant    & fhaA & Rv0020c &  741 & 247 & Q   & 327 & 138 & S & 5\\\\\n",
       "\t6 & 24707 & C & G    & missense\\_variant      & fhaA & Rv0020c &  738 & 246 & E/D & 339 & 145 & S & 5\\\\\n",
       "\\end{tabular}\n"
      ],
      "text/markdown": [
       "\n",
       "A data.frame: 6 × 13\n",
       "\n",
       "| <!--/--> | position &lt;int&gt; | REF &lt;chr&gt; | ALT &lt;chr&gt; | consequence &lt;fct&gt; | gene &lt;fct&gt; | Rv.number &lt;chr&gt; | gene.position &lt;dbl&gt; | protein.position &lt;dbl&gt; | AA &lt;chr&gt; | total_mut &lt;int&gt; | total_mut_res &lt;int&gt; | inh &lt;fct&gt; | lineages &lt;int&gt; |\n",
       "|---|---|---|---|---|---|---|---|---|---|---|---|---|---|\n",
       "| 1 | 17654 | T | G    | missense_variant      | pknA | Rv0015c | 1109 | 370 | Q/P | 160 |  23 | S | 3 |\n",
       "| 2 | 17657 | T | C    | missense_variant      | pknA | Rv0015c | 1106 | 369 | Q/R | 159 |  23 | S | 3 |\n",
       "| 3 | 23811 | T | TTGC | upstream_gene_variant | fhaB | Rv0019c |   NA |  NA | <!----> |  11 |   9 | S | 2 |\n",
       "| 4 | 24698 | G | C    | synonymous_variant    | fhaA | Rv0020c |  747 | 249 | G   | 219 |  94 | S | 4 |\n",
       "| 5 | 24704 | T | C    | synonymous_variant    | fhaA | Rv0020c |  741 | 247 | Q   | 327 | 138 | S | 5 |\n",
       "| 6 | 24707 | C | G    | missense_variant      | fhaA | Rv0020c |  738 | 246 | E/D | 339 | 145 | S | 5 |\n",
       "\n"
      ],
      "text/plain": [
       "  position REF ALT  consequence           gene Rv.number gene.position\n",
       "1 17654    T   G    missense_variant      pknA Rv0015c   1109         \n",
       "2 17657    T   C    missense_variant      pknA Rv0015c   1106         \n",
       "3 23811    T   TTGC upstream_gene_variant fhaB Rv0019c     NA         \n",
       "4 24698    G   C    synonymous_variant    fhaA Rv0020c    747         \n",
       "5 24704    T   C    synonymous_variant    fhaA Rv0020c    741         \n",
       "6 24707    C   G    missense_variant      fhaA Rv0020c    738         \n",
       "  protein.position AA  total_mut total_mut_res inh lineages\n",
       "1 370              Q/P 160        23           S   3       \n",
       "2 369              Q/R 159        23           S   3       \n",
       "3  NA                   11         9           S   2       \n",
       "4 249              G   219        94           S   4       \n",
       "5 247              Q   327       138           S   5       \n",
       "6 246              E/D 339       145           S   5       "
      ]
     },
     "metadata": {},
     "output_type": "display_data"
    }
   ],
   "source": [
    "# change data types\n",
    "vcf.agg$gene.position <- as.numeric(vcf.agg$gene.position)\n",
    "vcf.agg$protein.position <- as.numeric(vcf.agg$protein.position)\n",
    "\n",
    "cols <- c(\"consequence\",\"gene\",\"inh\")\n",
    "vcf.agg %<>% mutate(across(cols, as.factor))\n",
    "\n",
    "head(vcf.agg)"
   ]
  },
  {
   "cell_type": "code",
   "execution_count": 4,
   "id": "necessary-cloud",
   "metadata": {
    "scrolled": true
   },
   "outputs": [
    {
     "data": {
      "text/html": [
       "<table>\n",
       "<caption>A data.frame: 3 × 13</caption>\n",
       "<thead>\n",
       "\t<tr><th></th><th scope=col>position</th><th scope=col>REF</th><th scope=col>ALT</th><th scope=col>consequence</th><th scope=col>gene</th><th scope=col>Rv.number</th><th scope=col>gene.position</th><th scope=col>protein.position</th><th scope=col>AA</th><th scope=col>variant.type</th><th scope=col>isolate</th><th scope=col>lineage</th><th scope=col>inh</th></tr>\n",
       "\t<tr><th></th><th scope=col>&lt;int&gt;</th><th scope=col>&lt;chr&gt;</th><th scope=col>&lt;chr&gt;</th><th scope=col>&lt;chr&gt;</th><th scope=col>&lt;chr&gt;</th><th scope=col>&lt;chr&gt;</th><th scope=col>&lt;chr&gt;</th><th scope=col>&lt;chr&gt;</th><th scope=col>&lt;chr&gt;</th><th scope=col>&lt;chr&gt;</th><th scope=col>&lt;chr&gt;</th><th scope=col>&lt;chr&gt;</th><th scope=col>&lt;chr&gt;</th></tr>\n",
       "</thead>\n",
       "<tbody>\n",
       "\t<tr><th scope=row>1</th><td>17654</td><td>T</td><td>G   </td><td>missense_variant     </td><td>pknA</td><td>Rv0015c</td><td>1109</td><td>370</td><td>Q/P</td><td>SNV      </td><td>1047-07</td><td>East-Asian</td><td>S</td></tr>\n",
       "\t<tr><th scope=row>2</th><td>17657</td><td>T</td><td>C   </td><td>missense_variant     </td><td>pknA</td><td>Rv0015c</td><td>1106</td><td>369</td><td>Q/R</td><td>SNV      </td><td>1047-07</td><td>East-Asian</td><td>S</td></tr>\n",
       "\t<tr><th scope=row>3</th><td>23811</td><td>T</td><td>TTGC</td><td>upstream_gene_variant</td><td>fhaB</td><td>Rv0019c</td><td>    </td><td>   </td><td>   </td><td>insertion</td><td>1047-07</td><td>East-Asian</td><td>S</td></tr>\n",
       "</tbody>\n",
       "</table>\n"
      ],
      "text/latex": [
       "A data.frame: 3 × 13\n",
       "\\begin{tabular}{r|lllllllllllll}\n",
       "  & position & REF & ALT & consequence & gene & Rv.number & gene.position & protein.position & AA & variant.type & isolate & lineage & inh\\\\\n",
       "  & <int> & <chr> & <chr> & <chr> & <chr> & <chr> & <chr> & <chr> & <chr> & <chr> & <chr> & <chr> & <chr>\\\\\n",
       "\\hline\n",
       "\t1 & 17654 & T & G    & missense\\_variant      & pknA & Rv0015c & 1109 & 370 & Q/P & SNV       & 1047-07 & East-Asian & S\\\\\n",
       "\t2 & 17657 & T & C    & missense\\_variant      & pknA & Rv0015c & 1106 & 369 & Q/R & SNV       & 1047-07 & East-Asian & S\\\\\n",
       "\t3 & 23811 & T & TTGC & upstream\\_gene\\_variant & fhaB & Rv0019c &      &     &     & insertion & 1047-07 & East-Asian & S\\\\\n",
       "\\end{tabular}\n"
      ],
      "text/markdown": [
       "\n",
       "A data.frame: 3 × 13\n",
       "\n",
       "| <!--/--> | position &lt;int&gt; | REF &lt;chr&gt; | ALT &lt;chr&gt; | consequence &lt;chr&gt; | gene &lt;chr&gt; | Rv.number &lt;chr&gt; | gene.position &lt;chr&gt; | protein.position &lt;chr&gt; | AA &lt;chr&gt; | variant.type &lt;chr&gt; | isolate &lt;chr&gt; | lineage &lt;chr&gt; | inh &lt;chr&gt; |\n",
       "|---|---|---|---|---|---|---|---|---|---|---|---|---|---|\n",
       "| 1 | 17654 | T | G    | missense_variant      | pknA | Rv0015c | 1109 | 370 | Q/P | SNV       | 1047-07 | East-Asian | S |\n",
       "| 2 | 17657 | T | C    | missense_variant      | pknA | Rv0015c | 1106 | 369 | Q/R | SNV       | 1047-07 | East-Asian | S |\n",
       "| 3 | 23811 | T | TTGC | upstream_gene_variant | fhaB | Rv0019c | <!----> | <!----> | <!----> | insertion | 1047-07 | East-Asian | S |\n",
       "\n"
      ],
      "text/plain": [
       "  position REF ALT  consequence           gene Rv.number gene.position\n",
       "1 17654    T   G    missense_variant      pknA Rv0015c   1109         \n",
       "2 17657    T   C    missense_variant      pknA Rv0015c   1106         \n",
       "3 23811    T   TTGC upstream_gene_variant fhaB Rv0019c                \n",
       "  protein.position AA  variant.type isolate lineage    inh\n",
       "1 370              Q/P SNV          1047-07 East-Asian S  \n",
       "2 369              Q/R SNV          1047-07 East-Asian S  \n",
       "3                      insertion    1047-07 East-Asian S  "
      ]
     },
     "metadata": {},
     "output_type": "display_data"
    }
   ],
   "source": [
    "# read in unaggregated data\n",
    "vcf.unagg <- read.csv(\"class-vcf-parsed-unaggregated.csv\", header = TRUE, sep = '\\t')\n",
    "head(vcf.unagg, n=3)"
   ]
  },
  {
   "cell_type": "code",
   "execution_count": 5,
   "id": "chronic-tulsa",
   "metadata": {},
   "outputs": [
    {
     "name": "stderr",
     "output_type": "stream",
     "text": [
      "Warning message in eval(expr, envir, enclos):\n",
      "“NAs introduced by coercion”\n",
      "Warning message in eval(expr, envir, enclos):\n",
      "“NAs introduced by coercion”\n"
     ]
    },
    {
     "data": {
      "text/html": [
       "<table>\n",
       "<caption>A data.frame: 6 × 13</caption>\n",
       "<thead>\n",
       "\t<tr><th></th><th scope=col>position</th><th scope=col>REF</th><th scope=col>ALT</th><th scope=col>consequence</th><th scope=col>gene</th><th scope=col>Rv.number</th><th scope=col>gene.position</th><th scope=col>protein.position</th><th scope=col>AA</th><th scope=col>variant.type</th><th scope=col>isolate</th><th scope=col>lineage</th><th scope=col>inh</th></tr>\n",
       "\t<tr><th></th><th scope=col>&lt;int&gt;</th><th scope=col>&lt;chr&gt;</th><th scope=col>&lt;chr&gt;</th><th scope=col>&lt;fct&gt;</th><th scope=col>&lt;fct&gt;</th><th scope=col>&lt;chr&gt;</th><th scope=col>&lt;dbl&gt;</th><th scope=col>&lt;dbl&gt;</th><th scope=col>&lt;chr&gt;</th><th scope=col>&lt;fct&gt;</th><th scope=col>&lt;fct&gt;</th><th scope=col>&lt;fct&gt;</th><th scope=col>&lt;fct&gt;</th></tr>\n",
       "</thead>\n",
       "<tbody>\n",
       "\t<tr><th scope=row>1</th><td>17654</td><td>T</td><td>G   </td><td>missense_variant     </td><td>pknA</td><td>Rv0015c</td><td>1109</td><td>370</td><td>Q/P</td><td>SNV      </td><td>1047-07</td><td>East-Asian</td><td>S</td></tr>\n",
       "\t<tr><th scope=row>2</th><td>17657</td><td>T</td><td>C   </td><td>missense_variant     </td><td>pknA</td><td>Rv0015c</td><td>1106</td><td>369</td><td>Q/R</td><td>SNV      </td><td>1047-07</td><td>East-Asian</td><td>S</td></tr>\n",
       "\t<tr><th scope=row>3</th><td>23811</td><td>T</td><td>TTGC</td><td>upstream_gene_variant</td><td>fhaB</td><td>Rv0019c</td><td>  NA</td><td> NA</td><td>   </td><td>insertion</td><td>1047-07</td><td>East-Asian</td><td>S</td></tr>\n",
       "\t<tr><th scope=row>4</th><td>24698</td><td>G</td><td>C   </td><td>synonymous_variant   </td><td>fhaA</td><td>Rv0020c</td><td> 747</td><td>249</td><td>G  </td><td>SNV      </td><td>1047-07</td><td>East-Asian</td><td>S</td></tr>\n",
       "\t<tr><th scope=row>5</th><td>24704</td><td>T</td><td>C   </td><td>synonymous_variant   </td><td>fhaA</td><td>Rv0020c</td><td> 741</td><td>247</td><td>Q  </td><td>SNV      </td><td>1047-07</td><td>East-Asian</td><td>S</td></tr>\n",
       "\t<tr><th scope=row>6</th><td>24707</td><td>C</td><td>G   </td><td>missense_variant     </td><td>fhaA</td><td>Rv0020c</td><td> 738</td><td>246</td><td>E/D</td><td>SNV      </td><td>1047-07</td><td>East-Asian</td><td>S</td></tr>\n",
       "</tbody>\n",
       "</table>\n"
      ],
      "text/latex": [
       "A data.frame: 6 × 13\n",
       "\\begin{tabular}{r|lllllllllllll}\n",
       "  & position & REF & ALT & consequence & gene & Rv.number & gene.position & protein.position & AA & variant.type & isolate & lineage & inh\\\\\n",
       "  & <int> & <chr> & <chr> & <fct> & <fct> & <chr> & <dbl> & <dbl> & <chr> & <fct> & <fct> & <fct> & <fct>\\\\\n",
       "\\hline\n",
       "\t1 & 17654 & T & G    & missense\\_variant      & pknA & Rv0015c & 1109 & 370 & Q/P & SNV       & 1047-07 & East-Asian & S\\\\\n",
       "\t2 & 17657 & T & C    & missense\\_variant      & pknA & Rv0015c & 1106 & 369 & Q/R & SNV       & 1047-07 & East-Asian & S\\\\\n",
       "\t3 & 23811 & T & TTGC & upstream\\_gene\\_variant & fhaB & Rv0019c &   NA &  NA &     & insertion & 1047-07 & East-Asian & S\\\\\n",
       "\t4 & 24698 & G & C    & synonymous\\_variant    & fhaA & Rv0020c &  747 & 249 & G   & SNV       & 1047-07 & East-Asian & S\\\\\n",
       "\t5 & 24704 & T & C    & synonymous\\_variant    & fhaA & Rv0020c &  741 & 247 & Q   & SNV       & 1047-07 & East-Asian & S\\\\\n",
       "\t6 & 24707 & C & G    & missense\\_variant      & fhaA & Rv0020c &  738 & 246 & E/D & SNV       & 1047-07 & East-Asian & S\\\\\n",
       "\\end{tabular}\n"
      ],
      "text/markdown": [
       "\n",
       "A data.frame: 6 × 13\n",
       "\n",
       "| <!--/--> | position &lt;int&gt; | REF &lt;chr&gt; | ALT &lt;chr&gt; | consequence &lt;fct&gt; | gene &lt;fct&gt; | Rv.number &lt;chr&gt; | gene.position &lt;dbl&gt; | protein.position &lt;dbl&gt; | AA &lt;chr&gt; | variant.type &lt;fct&gt; | isolate &lt;fct&gt; | lineage &lt;fct&gt; | inh &lt;fct&gt; |\n",
       "|---|---|---|---|---|---|---|---|---|---|---|---|---|---|\n",
       "| 1 | 17654 | T | G    | missense_variant      | pknA | Rv0015c | 1109 | 370 | Q/P | SNV       | 1047-07 | East-Asian | S |\n",
       "| 2 | 17657 | T | C    | missense_variant      | pknA | Rv0015c | 1106 | 369 | Q/R | SNV       | 1047-07 | East-Asian | S |\n",
       "| 3 | 23811 | T | TTGC | upstream_gene_variant | fhaB | Rv0019c |   NA |  NA | <!----> | insertion | 1047-07 | East-Asian | S |\n",
       "| 4 | 24698 | G | C    | synonymous_variant    | fhaA | Rv0020c |  747 | 249 | G   | SNV       | 1047-07 | East-Asian | S |\n",
       "| 5 | 24704 | T | C    | synonymous_variant    | fhaA | Rv0020c |  741 | 247 | Q   | SNV       | 1047-07 | East-Asian | S |\n",
       "| 6 | 24707 | C | G    | missense_variant      | fhaA | Rv0020c |  738 | 246 | E/D | SNV       | 1047-07 | East-Asian | S |\n",
       "\n"
      ],
      "text/plain": [
       "  position REF ALT  consequence           gene Rv.number gene.position\n",
       "1 17654    T   G    missense_variant      pknA Rv0015c   1109         \n",
       "2 17657    T   C    missense_variant      pknA Rv0015c   1106         \n",
       "3 23811    T   TTGC upstream_gene_variant fhaB Rv0019c     NA         \n",
       "4 24698    G   C    synonymous_variant    fhaA Rv0020c    747         \n",
       "5 24704    T   C    synonymous_variant    fhaA Rv0020c    741         \n",
       "6 24707    C   G    missense_variant      fhaA Rv0020c    738         \n",
       "  protein.position AA  variant.type isolate lineage    inh\n",
       "1 370              Q/P SNV          1047-07 East-Asian S  \n",
       "2 369              Q/R SNV          1047-07 East-Asian S  \n",
       "3  NA                  insertion    1047-07 East-Asian S  \n",
       "4 249              G   SNV          1047-07 East-Asian S  \n",
       "5 247              Q   SNV          1047-07 East-Asian S  \n",
       "6 246              E/D SNV          1047-07 East-Asian S  "
      ]
     },
     "metadata": {},
     "output_type": "display_data"
    }
   ],
   "source": [
    "# change data types\n",
    "vcf.unagg$gene.position <- as.numeric(vcf.unagg$gene.position)\n",
    "vcf.unagg$protein.position <- as.numeric(vcf.unagg$protein.position)\n",
    "\n",
    "cols <- c(\"consequence\",\"gene\",\"variant.type\",\"isolate\",\"lineage\",\"inh\")\n",
    "vcf.unagg %<>% mutate(across(cols, as.factor))\n",
    "\n",
    "head(vcf.unagg)"
   ]
  },
  {
   "cell_type": "markdown",
   "id": "annoying-computer",
   "metadata": {},
   "source": [
    "## Question 3a: identify the individual isolates that contain the following variants:\n",
    "- rpoB codons 426-452<br>\n",
    "rpoB codons should be denoted by protein.position where gene==rpoB\n",
    "- inhA promoter: C-15T, A-16G, T-8C, T-8A <br>\n",
    "inhA promoter amino acid changes should be denoted by genomic position, \"The starting position of inhA is 1674202. So for problem #3, the inhA promoter mutations should be searched for with respect to that start site; e.g. C-15T would occur at position 1674187\"\n",
    "- katG S315T<br>\n",
    "gene==katG, protein.position==315."
   ]
  },
  {
   "cell_type": "code",
   "execution_count": 24,
   "id": "documentary-monkey",
   "metadata": {},
   "outputs": [
    {
     "data": {
      "text/html": [
       "209"
      ],
      "text/latex": [
       "209"
      ],
      "text/markdown": [
       "209"
      ],
      "text/plain": [
       "[1] 209"
      ]
     },
     "metadata": {},
     "output_type": "display_data"
    }
   ],
   "source": [
    "# use unaggregated data to identify isolates\n",
    "vcf.unagg %>% \n",
    "    filter((gene == \"rpoB\" & between(protein.position, 426, 452)) |   # any changes in rpoB specified codons\n",
    "           (gene == \"katG\" & protein.position == 315 & AA == \"S/T\") | # katG S315T\n",
    "           (between(position,1674169, 1674172) & AA == \"T/C\") |       # inhA promoter T8C\n",
    "           (between(position,1674169, 1674172) & AA == \"T/A\") |       # inhA promoter T8A\n",
    "           (between(position,1674187, 1674189) & AA == \"C/T\") |       # inhA promoter C15T\n",
    "           (between(position,1674190, 1674192) & AA == \"A/G\")         # inhA promoter A16G          \n",
    "          ) %>% \n",
    "    select(isolate) %>% \n",
    "    unique() %>% \n",
    "    nrow()"
   ]
  },
  {
   "cell_type": "markdown",
   "id": "enhanced-marble",
   "metadata": {},
   "source": [
    "## Question 3b: for each mutation, how many are INH-R and INH-S?"
   ]
  },
  {
   "cell_type": "code",
   "execution_count": 16,
   "id": "chinese-sailing",
   "metadata": {},
   "outputs": [
    {
     "data": {
      "text/html": [
       "<table>\n",
       "<caption>A data.frame: 6 × 13</caption>\n",
       "<thead>\n",
       "\t<tr><th></th><th scope=col>position</th><th scope=col>REF</th><th scope=col>ALT</th><th scope=col>consequence</th><th scope=col>gene</th><th scope=col>Rv.number</th><th scope=col>gene.position</th><th scope=col>protein.position</th><th scope=col>AA</th><th scope=col>total_mut</th><th scope=col>total_mut_res</th><th scope=col>inh</th><th scope=col>lineages</th></tr>\n",
       "\t<tr><th></th><th scope=col>&lt;int&gt;</th><th scope=col>&lt;chr&gt;</th><th scope=col>&lt;chr&gt;</th><th scope=col>&lt;fct&gt;</th><th scope=col>&lt;fct&gt;</th><th scope=col>&lt;chr&gt;</th><th scope=col>&lt;dbl&gt;</th><th scope=col>&lt;dbl&gt;</th><th scope=col>&lt;chr&gt;</th><th scope=col>&lt;int&gt;</th><th scope=col>&lt;int&gt;</th><th scope=col>&lt;fct&gt;</th><th scope=col>&lt;int&gt;</th></tr>\n",
       "</thead>\n",
       "<tbody>\n",
       "\t<tr><th scope=row>1</th><td>1626655</td><td>T</td><td>C</td><td>missense_variant</td><td>zwf2</td><td>Rv1447c</td><td>308</td><td>103</td><td>E/G</td><td>45</td><td>41</td><td>R</td><td>2</td></tr>\n",
       "\t<tr><th scope=row>2</th><td>1626655</td><td>T</td><td>C</td><td>missense_variant</td><td>zwf2</td><td>Rv1447c</td><td>308</td><td>103</td><td>E/G</td><td>45</td><td> 4</td><td>S</td><td>1</td></tr>\n",
       "\t<tr><th scope=row>3</th><td>1626656</td><td>C</td><td>T</td><td>missense_variant</td><td>zwf2</td><td>Rv1447c</td><td>307</td><td>103</td><td>E/K</td><td> 5</td><td> 2</td><td>R</td><td>1</td></tr>\n",
       "\t<tr><th scope=row>4</th><td>1626656</td><td>C</td><td>T</td><td>missense_variant</td><td>zwf2</td><td>Rv1447c</td><td>307</td><td>103</td><td>E/K</td><td> 5</td><td> 3</td><td>S</td><td>1</td></tr>\n",
       "\t<tr><th scope=row>5</th><td>1626022</td><td>T</td><td>C</td><td>missense_variant</td><td>zwf2</td><td>Rv1447c</td><td>941</td><td>314</td><td>Q/R</td><td> 9</td><td> 2</td><td>R</td><td>1</td></tr>\n",
       "\t<tr><th scope=row>6</th><td>1626022</td><td>T</td><td>C</td><td>missense_variant</td><td>zwf2</td><td>Rv1447c</td><td>941</td><td>314</td><td>Q/R</td><td> 9</td><td> 7</td><td>S</td><td>1</td></tr>\n",
       "</tbody>\n",
       "</table>\n"
      ],
      "text/latex": [
       "A data.frame: 6 × 13\n",
       "\\begin{tabular}{r|lllllllllllll}\n",
       "  & position & REF & ALT & consequence & gene & Rv.number & gene.position & protein.position & AA & total\\_mut & total\\_mut\\_res & inh & lineages\\\\\n",
       "  & <int> & <chr> & <chr> & <fct> & <fct> & <chr> & <dbl> & <dbl> & <chr> & <int> & <int> & <fct> & <int>\\\\\n",
       "\\hline\n",
       "\t1 & 1626655 & T & C & missense\\_variant & zwf2 & Rv1447c & 308 & 103 & E/G & 45 & 41 & R & 2\\\\\n",
       "\t2 & 1626655 & T & C & missense\\_variant & zwf2 & Rv1447c & 308 & 103 & E/G & 45 &  4 & S & 1\\\\\n",
       "\t3 & 1626656 & C & T & missense\\_variant & zwf2 & Rv1447c & 307 & 103 & E/K &  5 &  2 & R & 1\\\\\n",
       "\t4 & 1626656 & C & T & missense\\_variant & zwf2 & Rv1447c & 307 & 103 & E/K &  5 &  3 & S & 1\\\\\n",
       "\t5 & 1626022 & T & C & missense\\_variant & zwf2 & Rv1447c & 941 & 314 & Q/R &  9 &  2 & R & 1\\\\\n",
       "\t6 & 1626022 & T & C & missense\\_variant & zwf2 & Rv1447c & 941 & 314 & Q/R &  9 &  7 & S & 1\\\\\n",
       "\\end{tabular}\n"
      ],
      "text/markdown": [
       "\n",
       "A data.frame: 6 × 13\n",
       "\n",
       "| <!--/--> | position &lt;int&gt; | REF &lt;chr&gt; | ALT &lt;chr&gt; | consequence &lt;fct&gt; | gene &lt;fct&gt; | Rv.number &lt;chr&gt; | gene.position &lt;dbl&gt; | protein.position &lt;dbl&gt; | AA &lt;chr&gt; | total_mut &lt;int&gt; | total_mut_res &lt;int&gt; | inh &lt;fct&gt; | lineages &lt;int&gt; |\n",
       "|---|---|---|---|---|---|---|---|---|---|---|---|---|---|\n",
       "| 1 | 1626655 | T | C | missense_variant | zwf2 | Rv1447c | 308 | 103 | E/G | 45 | 41 | R | 2 |\n",
       "| 2 | 1626655 | T | C | missense_variant | zwf2 | Rv1447c | 308 | 103 | E/G | 45 |  4 | S | 1 |\n",
       "| 3 | 1626656 | C | T | missense_variant | zwf2 | Rv1447c | 307 | 103 | E/K |  5 |  2 | R | 1 |\n",
       "| 4 | 1626656 | C | T | missense_variant | zwf2 | Rv1447c | 307 | 103 | E/K |  5 |  3 | S | 1 |\n",
       "| 5 | 1626022 | T | C | missense_variant | zwf2 | Rv1447c | 941 | 314 | Q/R |  9 |  2 | R | 1 |\n",
       "| 6 | 1626022 | T | C | missense_variant | zwf2 | Rv1447c | 941 | 314 | Q/R |  9 |  7 | S | 1 |\n",
       "\n"
      ],
      "text/plain": [
       "  position REF ALT consequence      gene Rv.number gene.position\n",
       "1 1626655  T   C   missense_variant zwf2 Rv1447c   308          \n",
       "2 1626655  T   C   missense_variant zwf2 Rv1447c   308          \n",
       "3 1626656  C   T   missense_variant zwf2 Rv1447c   307          \n",
       "4 1626656  C   T   missense_variant zwf2 Rv1447c   307          \n",
       "5 1626022  T   C   missense_variant zwf2 Rv1447c   941          \n",
       "6 1626022  T   C   missense_variant zwf2 Rv1447c   941          \n",
       "  protein.position AA  total_mut total_mut_res inh lineages\n",
       "1 103              E/G 45        41            R   2       \n",
       "2 103              E/G 45         4            S   1       \n",
       "3 103              E/K  5         2            R   1       \n",
       "4 103              E/K  5         3            S   1       \n",
       "5 314              Q/R  9         2            R   1       \n",
       "6 314              Q/R  9         7            S   1       "
      ]
     },
     "metadata": {},
     "output_type": "display_data"
    }
   ],
   "source": [
    "# look at the data\n",
    "# sort the aggregated vcf file according to each mutation\n",
    "vcf.agg %<>% arrange(desc(gene), AA, inh)\n",
    "head(vcf.agg)"
   ]
  },
  {
   "cell_type": "code",
   "execution_count": 23,
   "id": "common-speaking",
   "metadata": {},
   "outputs": [
    {
     "data": {
      "text/html": [
       "9769"
      ],
      "text/latex": [
       "9769"
      ],
      "text/markdown": [
       "9769"
      ],
      "text/plain": [
       "[1] 9769"
      ]
     },
     "metadata": {},
     "output_type": "display_data"
    }
   ],
   "source": [
    "total.mut <- vcf.agg %>% \n",
    "    filter(inh == \"R\") %>% \n",
    "    nrow()\n",
    "\n",
    "total.mut"
   ]
  },
  {
   "cell_type": "code",
   "execution_count": 25,
   "id": "incorporate-tiffany",
   "metadata": {},
   "outputs": [
    {
     "data": {
      "text/html": [
       "4359"
      ],
      "text/latex": [
       "4359"
      ],
      "text/markdown": [
       "4359"
      ],
      "text/plain": [
       "[1] 4359"
      ]
     },
     "metadata": {},
     "output_type": "display_data"
    }
   ],
   "source": [
    "# assuming a threshold of 50%\n",
    "# at least 50% of isolates contain a given mutation and confer resistance\n",
    "vcf.agg %>% \n",
    "    filter(inh == \"R\",\n",
    "           (total_mut_res/total_mut >= 0.5)) %>% \n",
    "    nrow()"
   ]
  },
  {
   "cell_type": "markdown",
   "id": "powerful-equity",
   "metadata": {},
   "source": [
    "## Question 4\n",
    "For each variant the two diagnostic assays in #3, calculate performance measures. Calculate them again for each of the diagnostic performs in aggregate (aggregated over all mutations assayed by the diagnostic). Of these two which would you choose as the programmatic molecular DST method? Why?<br>\n",
    "- sensitivity = TP / (TP + FN)\n",
    "- specificity = TN / (TN + FP)\n",
    "- positive predicted value = TP + FP\n",
    "- negative predicted value = FN + TN"
   ]
  },
  {
   "cell_type": "code",
   "execution_count": 32,
   "id": "sublime-formula",
   "metadata": {},
   "outputs": [
    {
     "data": {
      "text/html": [
       "499"
      ],
      "text/latex": [
       "499"
      ],
      "text/markdown": [
       "499"
      ],
      "text/plain": [
       "[1] 499"
      ]
     },
     "metadata": {},
     "output_type": "display_data"
    }
   ],
   "source": [
    "# how many total isolates are there?\n",
    "vcf.unagg %>% select(isolate) %>% unique() %>% nrow()"
   ]
  },
  {
   "cell_type": "code",
   "execution_count": 33,
   "id": "generic-vaccine",
   "metadata": {},
   "outputs": [
    {
     "data": {
      "text/html": [
       "249"
      ],
      "text/latex": [
       "249"
      ],
      "text/markdown": [
       "249"
      ],
      "text/plain": [
       "[1] 249"
      ]
     },
     "metadata": {},
     "output_type": "display_data"
    }
   ],
   "source": [
    "# how many are actually resistant?\n",
    "vcf.unagg %>% filter(inh == \"R\") %>% select(isolate) %>% unique() %>% nrow()"
   ]
  },
  {
   "cell_type": "code",
   "execution_count": 34,
   "id": "touched-welsh",
   "metadata": {},
   "outputs": [
    {
     "data": {
      "text/html": [
       "250"
      ],
      "text/latex": [
       "250"
      ],
      "text/markdown": [
       "250"
      ],
      "text/plain": [
       "[1] 250"
      ]
     },
     "metadata": {},
     "output_type": "display_data"
    }
   ],
   "source": [
    "# how many are actually susceptible?\n",
    "vcf.unagg %>% filter(inh == \"S\") %>% select(isolate) %>% unique() %>% nrow()"
   ]
  },
  {
   "cell_type": "code",
   "execution_count": 31,
   "id": "negative-plate",
   "metadata": {},
   "outputs": [
    {
     "data": {
      "text/html": [
       "<table>\n",
       "<caption>A data.frame: 4 × 13</caption>\n",
       "<thead>\n",
       "\t<tr><th scope=col>position</th><th scope=col>REF</th><th scope=col>ALT</th><th scope=col>consequence</th><th scope=col>gene</th><th scope=col>Rv.number</th><th scope=col>gene.position</th><th scope=col>protein.position</th><th scope=col>AA</th><th scope=col>total_mut</th><th scope=col>total_mut_res</th><th scope=col>inh</th><th scope=col>lineages</th></tr>\n",
       "\t<tr><th scope=col>&lt;int&gt;</th><th scope=col>&lt;chr&gt;</th><th scope=col>&lt;chr&gt;</th><th scope=col>&lt;fct&gt;</th><th scope=col>&lt;fct&gt;</th><th scope=col>&lt;chr&gt;</th><th scope=col>&lt;dbl&gt;</th><th scope=col>&lt;dbl&gt;</th><th scope=col>&lt;chr&gt;</th><th scope=col>&lt;int&gt;</th><th scope=col>&lt;int&gt;</th><th scope=col>&lt;fct&gt;</th><th scope=col>&lt;int&gt;</th></tr>\n",
       "</thead>\n",
       "<tbody>\n",
       "\t<tr><td>761139</td><td>C</td><td>T</td><td>missense_variant</td><td>rpoB</td><td>Rv0667</td><td>1333</td><td>445</td><td>H/Y</td><td>  6</td><td>  6</td><td>R</td><td>2</td></tr>\n",
       "\t<tr><td>761161</td><td>T</td><td>C</td><td>missense_variant</td><td>rpoB</td><td>Rv0667</td><td>1355</td><td>452</td><td>L/P</td><td>  5</td><td>  5</td><td>R</td><td>2</td></tr>\n",
       "\t<tr><td>761155</td><td>C</td><td>T</td><td>missense_variant</td><td>rpoB</td><td>Rv0667</td><td>1349</td><td>450</td><td>S/L</td><td>144</td><td>139</td><td>R</td><td>4</td></tr>\n",
       "\t<tr><td>761155</td><td>C</td><td>T</td><td>missense_variant</td><td>rpoB</td><td>Rv0667</td><td>1349</td><td>450</td><td>S/L</td><td>144</td><td>  5</td><td>S</td><td>2</td></tr>\n",
       "</tbody>\n",
       "</table>\n"
      ],
      "text/latex": [
       "A data.frame: 4 × 13\n",
       "\\begin{tabular}{lllllllllllll}\n",
       " position & REF & ALT & consequence & gene & Rv.number & gene.position & protein.position & AA & total\\_mut & total\\_mut\\_res & inh & lineages\\\\\n",
       " <int> & <chr> & <chr> & <fct> & <fct> & <chr> & <dbl> & <dbl> & <chr> & <int> & <int> & <fct> & <int>\\\\\n",
       "\\hline\n",
       "\t 761139 & C & T & missense\\_variant & rpoB & Rv0667 & 1333 & 445 & H/Y &   6 &   6 & R & 2\\\\\n",
       "\t 761161 & T & C & missense\\_variant & rpoB & Rv0667 & 1355 & 452 & L/P &   5 &   5 & R & 2\\\\\n",
       "\t 761155 & C & T & missense\\_variant & rpoB & Rv0667 & 1349 & 450 & S/L & 144 & 139 & R & 4\\\\\n",
       "\t 761155 & C & T & missense\\_variant & rpoB & Rv0667 & 1349 & 450 & S/L & 144 &   5 & S & 2\\\\\n",
       "\\end{tabular}\n"
      ],
      "text/markdown": [
       "\n",
       "A data.frame: 4 × 13\n",
       "\n",
       "| position &lt;int&gt; | REF &lt;chr&gt; | ALT &lt;chr&gt; | consequence &lt;fct&gt; | gene &lt;fct&gt; | Rv.number &lt;chr&gt; | gene.position &lt;dbl&gt; | protein.position &lt;dbl&gt; | AA &lt;chr&gt; | total_mut &lt;int&gt; | total_mut_res &lt;int&gt; | inh &lt;fct&gt; | lineages &lt;int&gt; |\n",
       "|---|---|---|---|---|---|---|---|---|---|---|---|---|\n",
       "| 761139 | C | T | missense_variant | rpoB | Rv0667 | 1333 | 445 | H/Y |   6 |   6 | R | 2 |\n",
       "| 761161 | T | C | missense_variant | rpoB | Rv0667 | 1355 | 452 | L/P |   5 |   5 | R | 2 |\n",
       "| 761155 | C | T | missense_variant | rpoB | Rv0667 | 1349 | 450 | S/L | 144 | 139 | R | 4 |\n",
       "| 761155 | C | T | missense_variant | rpoB | Rv0667 | 1349 | 450 | S/L | 144 |   5 | S | 2 |\n",
       "\n"
      ],
      "text/plain": [
       "  position REF ALT consequence      gene Rv.number gene.position\n",
       "1 761139   C   T   missense_variant rpoB Rv0667    1333         \n",
       "2 761161   T   C   missense_variant rpoB Rv0667    1355         \n",
       "3 761155   C   T   missense_variant rpoB Rv0667    1349         \n",
       "4 761155   C   T   missense_variant rpoB Rv0667    1349         \n",
       "  protein.position AA  total_mut total_mut_res inh lineages\n",
       "1 445              H/Y   6         6           R   2       \n",
       "2 452              L/P   5         5           R   2       \n",
       "3 450              S/L 144       139           R   4       \n",
       "4 450              S/L 144         5           S   2       "
      ]
     },
     "metadata": {},
     "output_type": "display_data"
    }
   ],
   "source": [
    "# rpoB codons 426-452\n",
    "# of the isolates with a mutation, how many were truly INH resistant and INH susceptible?\n",
    "vcf.agg %>% \n",
    "    filter((gene == \"rpoB\" & between(protein.position, 426, 452)))     "
   ]
  },
  {
   "cell_type": "code",
   "execution_count": 35,
   "id": "saved-danish",
   "metadata": {},
   "outputs": [
    {
     "data": {
      "text/html": [
       "<table>\n",
       "<caption>A data.frame: 2 × 13</caption>\n",
       "<thead>\n",
       "\t<tr><th scope=col>position</th><th scope=col>REF</th><th scope=col>ALT</th><th scope=col>consequence</th><th scope=col>gene</th><th scope=col>Rv.number</th><th scope=col>gene.position</th><th scope=col>protein.position</th><th scope=col>AA</th><th scope=col>total_mut</th><th scope=col>total_mut_res</th><th scope=col>inh</th><th scope=col>lineages</th></tr>\n",
       "\t<tr><th scope=col>&lt;int&gt;</th><th scope=col>&lt;chr&gt;</th><th scope=col>&lt;chr&gt;</th><th scope=col>&lt;fct&gt;</th><th scope=col>&lt;fct&gt;</th><th scope=col>&lt;chr&gt;</th><th scope=col>&lt;dbl&gt;</th><th scope=col>&lt;dbl&gt;</th><th scope=col>&lt;chr&gt;</th><th scope=col>&lt;int&gt;</th><th scope=col>&lt;int&gt;</th><th scope=col>&lt;fct&gt;</th><th scope=col>&lt;int&gt;</th></tr>\n",
       "</thead>\n",
       "<tbody>\n",
       "\t<tr><td>2155168</td><td>C</td><td>G</td><td>missense_variant</td><td>katG</td><td>Rv1908c</td><td>944</td><td>315</td><td>S/T</td><td>193</td><td>190</td><td>R</td><td>4</td></tr>\n",
       "\t<tr><td>2155168</td><td>C</td><td>G</td><td>missense_variant</td><td>katG</td><td>Rv1908c</td><td>944</td><td>315</td><td>S/T</td><td>193</td><td>  3</td><td>S</td><td>2</td></tr>\n",
       "</tbody>\n",
       "</table>\n"
      ],
      "text/latex": [
       "A data.frame: 2 × 13\n",
       "\\begin{tabular}{lllllllllllll}\n",
       " position & REF & ALT & consequence & gene & Rv.number & gene.position & protein.position & AA & total\\_mut & total\\_mut\\_res & inh & lineages\\\\\n",
       " <int> & <chr> & <chr> & <fct> & <fct> & <chr> & <dbl> & <dbl> & <chr> & <int> & <int> & <fct> & <int>\\\\\n",
       "\\hline\n",
       "\t 2155168 & C & G & missense\\_variant & katG & Rv1908c & 944 & 315 & S/T & 193 & 190 & R & 4\\\\\n",
       "\t 2155168 & C & G & missense\\_variant & katG & Rv1908c & 944 & 315 & S/T & 193 &   3 & S & 2\\\\\n",
       "\\end{tabular}\n"
      ],
      "text/markdown": [
       "\n",
       "A data.frame: 2 × 13\n",
       "\n",
       "| position &lt;int&gt; | REF &lt;chr&gt; | ALT &lt;chr&gt; | consequence &lt;fct&gt; | gene &lt;fct&gt; | Rv.number &lt;chr&gt; | gene.position &lt;dbl&gt; | protein.position &lt;dbl&gt; | AA &lt;chr&gt; | total_mut &lt;int&gt; | total_mut_res &lt;int&gt; | inh &lt;fct&gt; | lineages &lt;int&gt; |\n",
       "|---|---|---|---|---|---|---|---|---|---|---|---|---|\n",
       "| 2155168 | C | G | missense_variant | katG | Rv1908c | 944 | 315 | S/T | 193 | 190 | R | 4 |\n",
       "| 2155168 | C | G | missense_variant | katG | Rv1908c | 944 | 315 | S/T | 193 |   3 | S | 2 |\n",
       "\n"
      ],
      "text/plain": [
       "  position REF ALT consequence      gene Rv.number gene.position\n",
       "1 2155168  C   G   missense_variant katG Rv1908c   944          \n",
       "2 2155168  C   G   missense_variant katG Rv1908c   944          \n",
       "  protein.position AA  total_mut total_mut_res inh lineages\n",
       "1 315              S/T 193       190           R   4       \n",
       "2 315              S/T 193         3           S   2       "
      ]
     },
     "metadata": {},
     "output_type": "display_data"
    }
   ],
   "source": [
    "# katG S315T\n",
    "vcf.agg %>% \n",
    "    filter(gene == \"katG\" & protein.position == 315 & AA == \"S/T\")"
   ]
  },
  {
   "cell_type": "code",
   "execution_count": 36,
   "id": "heavy-trust",
   "metadata": {},
   "outputs": [
    {
     "data": {
      "text/html": [
       "<table>\n",
       "<caption>A data.frame: 0 × 13</caption>\n",
       "<thead>\n",
       "\t<tr><th scope=col>position</th><th scope=col>REF</th><th scope=col>ALT</th><th scope=col>consequence</th><th scope=col>gene</th><th scope=col>Rv.number</th><th scope=col>gene.position</th><th scope=col>protein.position</th><th scope=col>AA</th><th scope=col>total_mut</th><th scope=col>total_mut_res</th><th scope=col>inh</th><th scope=col>lineages</th></tr>\n",
       "\t<tr><th scope=col>&lt;int&gt;</th><th scope=col>&lt;chr&gt;</th><th scope=col>&lt;chr&gt;</th><th scope=col>&lt;fct&gt;</th><th scope=col>&lt;fct&gt;</th><th scope=col>&lt;chr&gt;</th><th scope=col>&lt;dbl&gt;</th><th scope=col>&lt;dbl&gt;</th><th scope=col>&lt;chr&gt;</th><th scope=col>&lt;int&gt;</th><th scope=col>&lt;int&gt;</th><th scope=col>&lt;fct&gt;</th><th scope=col>&lt;int&gt;</th></tr>\n",
       "</thead>\n",
       "<tbody>\n",
       "</tbody>\n",
       "</table>\n"
      ],
      "text/latex": [
       "A data.frame: 0 × 13\n",
       "\\begin{tabular}{lllllllllllll}\n",
       " position & REF & ALT & consequence & gene & Rv.number & gene.position & protein.position & AA & total\\_mut & total\\_mut\\_res & inh & lineages\\\\\n",
       " <int> & <chr> & <chr> & <fct> & <fct> & <chr> & <dbl> & <dbl> & <chr> & <int> & <int> & <fct> & <int>\\\\\n",
       "\\hline\n",
       "\\end{tabular}\n"
      ],
      "text/markdown": [
       "\n",
       "A data.frame: 0 × 13\n",
       "\n",
       "| position &lt;int&gt; | REF &lt;chr&gt; | ALT &lt;chr&gt; | consequence &lt;fct&gt; | gene &lt;fct&gt; | Rv.number &lt;chr&gt; | gene.position &lt;dbl&gt; | protein.position &lt;dbl&gt; | AA &lt;chr&gt; | total_mut &lt;int&gt; | total_mut_res &lt;int&gt; | inh &lt;fct&gt; | lineages &lt;int&gt; |\n",
       "|---|---|---|---|---|---|---|---|---|---|---|---|---|\n",
       "\n"
      ],
      "text/plain": [
       "     position REF ALT consequence gene Rv.number gene.position protein.position\n",
       "     AA total_mut total_mut_res inh lineages"
      ]
     },
     "metadata": {},
     "output_type": "display_data"
    }
   ],
   "source": [
    "# inhA promoter T8C\n",
    "vcf.agg %>% \n",
    "    filter(between(position,1674169, 1674172) & AA == \"T/C\")"
   ]
  },
  {
   "cell_type": "code",
   "execution_count": 37,
   "id": "satisfied-relaxation",
   "metadata": {},
   "outputs": [
    {
     "data": {
      "text/html": [
       "<table>\n",
       "<caption>A data.frame: 0 × 13</caption>\n",
       "<thead>\n",
       "\t<tr><th scope=col>position</th><th scope=col>REF</th><th scope=col>ALT</th><th scope=col>consequence</th><th scope=col>gene</th><th scope=col>Rv.number</th><th scope=col>gene.position</th><th scope=col>protein.position</th><th scope=col>AA</th><th scope=col>total_mut</th><th scope=col>total_mut_res</th><th scope=col>inh</th><th scope=col>lineages</th></tr>\n",
       "\t<tr><th scope=col>&lt;int&gt;</th><th scope=col>&lt;chr&gt;</th><th scope=col>&lt;chr&gt;</th><th scope=col>&lt;fct&gt;</th><th scope=col>&lt;fct&gt;</th><th scope=col>&lt;chr&gt;</th><th scope=col>&lt;dbl&gt;</th><th scope=col>&lt;dbl&gt;</th><th scope=col>&lt;chr&gt;</th><th scope=col>&lt;int&gt;</th><th scope=col>&lt;int&gt;</th><th scope=col>&lt;fct&gt;</th><th scope=col>&lt;int&gt;</th></tr>\n",
       "</thead>\n",
       "<tbody>\n",
       "</tbody>\n",
       "</table>\n"
      ],
      "text/latex": [
       "A data.frame: 0 × 13\n",
       "\\begin{tabular}{lllllllllllll}\n",
       " position & REF & ALT & consequence & gene & Rv.number & gene.position & protein.position & AA & total\\_mut & total\\_mut\\_res & inh & lineages\\\\\n",
       " <int> & <chr> & <chr> & <fct> & <fct> & <chr> & <dbl> & <dbl> & <chr> & <int> & <int> & <fct> & <int>\\\\\n",
       "\\hline\n",
       "\\end{tabular}\n"
      ],
      "text/markdown": [
       "\n",
       "A data.frame: 0 × 13\n",
       "\n",
       "| position &lt;int&gt; | REF &lt;chr&gt; | ALT &lt;chr&gt; | consequence &lt;fct&gt; | gene &lt;fct&gt; | Rv.number &lt;chr&gt; | gene.position &lt;dbl&gt; | protein.position &lt;dbl&gt; | AA &lt;chr&gt; | total_mut &lt;int&gt; | total_mut_res &lt;int&gt; | inh &lt;fct&gt; | lineages &lt;int&gt; |\n",
       "|---|---|---|---|---|---|---|---|---|---|---|---|---|\n",
       "\n"
      ],
      "text/plain": [
       "     position REF ALT consequence gene Rv.number gene.position protein.position\n",
       "     AA total_mut total_mut_res inh lineages"
      ]
     },
     "metadata": {},
     "output_type": "display_data"
    }
   ],
   "source": [
    "# inhA promoter T8A\n",
    "vcf.agg %>% \n",
    "    filter(between(position,1674169, 1674172) & AA == \"T/A\")"
   ]
  },
  {
   "cell_type": "code",
   "execution_count": 38,
   "id": "stable-jurisdiction",
   "metadata": {},
   "outputs": [
    {
     "data": {
      "text/html": [
       "<table>\n",
       "<caption>A data.frame: 0 × 13</caption>\n",
       "<thead>\n",
       "\t<tr><th scope=col>position</th><th scope=col>REF</th><th scope=col>ALT</th><th scope=col>consequence</th><th scope=col>gene</th><th scope=col>Rv.number</th><th scope=col>gene.position</th><th scope=col>protein.position</th><th scope=col>AA</th><th scope=col>total_mut</th><th scope=col>total_mut_res</th><th scope=col>inh</th><th scope=col>lineages</th></tr>\n",
       "\t<tr><th scope=col>&lt;int&gt;</th><th scope=col>&lt;chr&gt;</th><th scope=col>&lt;chr&gt;</th><th scope=col>&lt;fct&gt;</th><th scope=col>&lt;fct&gt;</th><th scope=col>&lt;chr&gt;</th><th scope=col>&lt;dbl&gt;</th><th scope=col>&lt;dbl&gt;</th><th scope=col>&lt;chr&gt;</th><th scope=col>&lt;int&gt;</th><th scope=col>&lt;int&gt;</th><th scope=col>&lt;fct&gt;</th><th scope=col>&lt;int&gt;</th></tr>\n",
       "</thead>\n",
       "<tbody>\n",
       "</tbody>\n",
       "</table>\n"
      ],
      "text/latex": [
       "A data.frame: 0 × 13\n",
       "\\begin{tabular}{lllllllllllll}\n",
       " position & REF & ALT & consequence & gene & Rv.number & gene.position & protein.position & AA & total\\_mut & total\\_mut\\_res & inh & lineages\\\\\n",
       " <int> & <chr> & <chr> & <fct> & <fct> & <chr> & <dbl> & <dbl> & <chr> & <int> & <int> & <fct> & <int>\\\\\n",
       "\\hline\n",
       "\\end{tabular}\n"
      ],
      "text/markdown": [
       "\n",
       "A data.frame: 0 × 13\n",
       "\n",
       "| position &lt;int&gt; | REF &lt;chr&gt; | ALT &lt;chr&gt; | consequence &lt;fct&gt; | gene &lt;fct&gt; | Rv.number &lt;chr&gt; | gene.position &lt;dbl&gt; | protein.position &lt;dbl&gt; | AA &lt;chr&gt; | total_mut &lt;int&gt; | total_mut_res &lt;int&gt; | inh &lt;fct&gt; | lineages &lt;int&gt; |\n",
       "|---|---|---|---|---|---|---|---|---|---|---|---|---|\n",
       "\n"
      ],
      "text/plain": [
       "     position REF ALT consequence gene Rv.number gene.position protein.position\n",
       "     AA total_mut total_mut_res inh lineages"
      ]
     },
     "metadata": {},
     "output_type": "display_data"
    }
   ],
   "source": [
    "# inhA promoter C15T\n",
    "vcf.agg %>% \n",
    "    filter(between(position,1674187, 1674189) & AA == \"C/T\")  "
   ]
  },
  {
   "cell_type": "code",
   "execution_count": 39,
   "id": "romance-remains",
   "metadata": {},
   "outputs": [
    {
     "data": {
      "text/html": [
       "<table>\n",
       "<caption>A data.frame: 0 × 13</caption>\n",
       "<thead>\n",
       "\t<tr><th scope=col>position</th><th scope=col>REF</th><th scope=col>ALT</th><th scope=col>consequence</th><th scope=col>gene</th><th scope=col>Rv.number</th><th scope=col>gene.position</th><th scope=col>protein.position</th><th scope=col>AA</th><th scope=col>total_mut</th><th scope=col>total_mut_res</th><th scope=col>inh</th><th scope=col>lineages</th></tr>\n",
       "\t<tr><th scope=col>&lt;int&gt;</th><th scope=col>&lt;chr&gt;</th><th scope=col>&lt;chr&gt;</th><th scope=col>&lt;fct&gt;</th><th scope=col>&lt;fct&gt;</th><th scope=col>&lt;chr&gt;</th><th scope=col>&lt;dbl&gt;</th><th scope=col>&lt;dbl&gt;</th><th scope=col>&lt;chr&gt;</th><th scope=col>&lt;int&gt;</th><th scope=col>&lt;int&gt;</th><th scope=col>&lt;fct&gt;</th><th scope=col>&lt;int&gt;</th></tr>\n",
       "</thead>\n",
       "<tbody>\n",
       "</tbody>\n",
       "</table>\n"
      ],
      "text/latex": [
       "A data.frame: 0 × 13\n",
       "\\begin{tabular}{lllllllllllll}\n",
       " position & REF & ALT & consequence & gene & Rv.number & gene.position & protein.position & AA & total\\_mut & total\\_mut\\_res & inh & lineages\\\\\n",
       " <int> & <chr> & <chr> & <fct> & <fct> & <chr> & <dbl> & <dbl> & <chr> & <int> & <int> & <fct> & <int>\\\\\n",
       "\\hline\n",
       "\\end{tabular}\n"
      ],
      "text/markdown": [
       "\n",
       "A data.frame: 0 × 13\n",
       "\n",
       "| position &lt;int&gt; | REF &lt;chr&gt; | ALT &lt;chr&gt; | consequence &lt;fct&gt; | gene &lt;fct&gt; | Rv.number &lt;chr&gt; | gene.position &lt;dbl&gt; | protein.position &lt;dbl&gt; | AA &lt;chr&gt; | total_mut &lt;int&gt; | total_mut_res &lt;int&gt; | inh &lt;fct&gt; | lineages &lt;int&gt; |\n",
       "|---|---|---|---|---|---|---|---|---|---|---|---|---|\n",
       "\n"
      ],
      "text/plain": [
       "     position REF ALT consequence gene Rv.number gene.position protein.position\n",
       "     AA total_mut total_mut_res inh lineages"
      ]
     },
     "metadata": {},
     "output_type": "display_data"
    }
   ],
   "source": [
    "# inhA promoter A16G \n",
    "vcf.agg %>% \n",
    "    filter(between(position,1674190, 1674192) & AA == \"A/G\")"
   ]
  },
  {
   "cell_type": "code",
   "execution_count": 40,
   "id": "quick-funds",
   "metadata": {},
   "outputs": [
    {
     "data": {
      "text/html": [
       "155"
      ],
      "text/latex": [
       "155"
      ],
      "text/markdown": [
       "155"
      ],
      "text/plain": [
       "[1] 155"
      ]
     },
     "metadata": {},
     "output_type": "display_data"
    }
   ],
   "source": [
    "# GeneXPert is all rpoB codons 426-452\n",
    "# total isolates with a GeneXPert hit\n",
    "vcf.unagg %>% \n",
    "    filter(gene == \"rpoB\" & between(protein.position, 426, 452)) %>% \n",
    "    select(isolate) %>% \n",
    "    unique() %>% \n",
    "    nrow()"
   ]
  },
  {
   "cell_type": "code",
   "execution_count": 41,
   "id": "understood-thesaurus",
   "metadata": {},
   "outputs": [
    {
     "data": {
      "text/html": [
       "150"
      ],
      "text/latex": [
       "150"
      ],
      "text/markdown": [
       "150"
      ],
      "text/plain": [
       "[1] 150"
      ]
     },
     "metadata": {},
     "output_type": "display_data"
    }
   ],
   "source": [
    "# GeneXPert\n",
    "# resistant isolates with a GeneXPert hit\n",
    "vcf.unagg %>% \n",
    "    filter(gene == \"rpoB\" & between(protein.position, 426, 452),\n",
    "           inh == \"R\"\n",
    "          ) %>% \n",
    "    select(isolate) %>% \n",
    "    unique() %>% \n",
    "    nrow()"
   ]
  },
  {
   "cell_type": "code",
   "execution_count": 42,
   "id": "quick-trauma",
   "metadata": {},
   "outputs": [
    {
     "data": {
      "text/html": [
       "193"
      ],
      "text/latex": [
       "193"
      ],
      "text/markdown": [
       "193"
      ],
      "text/plain": [
       "[1] 193"
      ]
     },
     "metadata": {},
     "output_type": "display_data"
    }
   ],
   "source": [
    "# GenoType MTBDRplus VER 2.0\n",
    "# total isolates with hit\n",
    "vcf.unagg %>% \n",
    "    filter(\n",
    "           (gene == \"katG\" & protein.position == 315 & AA == \"S/T\") | # katG S315T\n",
    "           (between(position,1674169, 1674172) & AA == \"T/C\") |       # inhA promoter T8C\n",
    "           (between(position,1674169, 1674172) & AA == \"T/A\") |       # inhA promoter T8A\n",
    "           (between(position,1674187, 1674189) & AA == \"C/T\") |       # inhA promoter C15T\n",
    "           (between(position,1674190, 1674192) & AA == \"A/G\")         # inhA promoter A16G          \n",
    "          ) %>% \n",
    "    select(isolate) %>% \n",
    "    unique() %>% \n",
    "    nrow()"
   ]
  },
  {
   "cell_type": "code",
   "execution_count": 43,
   "id": "played-prisoner",
   "metadata": {},
   "outputs": [
    {
     "data": {
      "text/html": [
       "190"
      ],
      "text/latex": [
       "190"
      ],
      "text/markdown": [
       "190"
      ],
      "text/plain": [
       "[1] 190"
      ]
     },
     "metadata": {},
     "output_type": "display_data"
    }
   ],
   "source": [
    "# GenoType MTBDRplus VER 2.0\n",
    "# resistant isolates with hit\n",
    "vcf.unagg %>% \n",
    "    filter(\n",
    "           ((gene == \"katG\" & protein.position == 315 & AA == \"S/T\") | # katG S315T\n",
    "           (between(position,1674169, 1674172) & AA == \"T/C\") |       # inhA promoter T8C\n",
    "           (between(position,1674169, 1674172) & AA == \"T/A\") |       # inhA promoter T8A\n",
    "           (between(position,1674187, 1674189) & AA == \"C/T\") |       # inhA promoter C15T\n",
    "           (between(position,1674190, 1674192) & AA == \"A/G\")),        # inhA promoter A16G \n",
    "            inh == \"R\"\n",
    "          ) %>% \n",
    "    select(isolate) %>% \n",
    "    unique() %>% \n",
    "    nrow()"
   ]
  },
  {
   "cell_type": "markdown",
   "id": "suspended-brisbane",
   "metadata": {},
   "source": [
    "## Question 5\n",
    "Now, it is your mission to use the whole dataset to identify supplementary or alternative variants to include an improve diagnostic for INH resistance.\n",
    "(A) What mutations would you include to capture 90% of resistant cases (e.g. sensitivity)? 95% of resistant cases? In going from 90 to 95% sensitivity, what performance are you sacrificing?\n",
    "(B) Imagining yourself as the Infectious Disease Molecular Diagnostics consultant for a country’s government, which would you recommend? Why?"
   ]
  },
  {
   "cell_type": "markdown",
   "id": "improving-vehicle",
   "metadata": {},
   "source": [
    "I think the best approach is to maximize both sensitivity and specificity equally. Upon reduction to a manageable number of variants: sort by sensitivity in descending order. Add one variant at a time to the test and assess sensitivity of the test."
   ]
  },
  {
   "cell_type": "code",
   "execution_count": 44,
   "id": "adopted-ottawa",
   "metadata": {},
   "outputs": [
    {
     "data": {
      "text/html": [
       "<table>\n",
       "<caption>A data.frame: 6 × 13</caption>\n",
       "<thead>\n",
       "\t<tr><th></th><th scope=col>position</th><th scope=col>REF</th><th scope=col>ALT</th><th scope=col>consequence</th><th scope=col>gene</th><th scope=col>Rv.number</th><th scope=col>gene.position</th><th scope=col>protein.position</th><th scope=col>AA</th><th scope=col>total_mut</th><th scope=col>total_mut_res</th><th scope=col>inh</th><th scope=col>lineages</th></tr>\n",
       "\t<tr><th></th><th scope=col>&lt;int&gt;</th><th scope=col>&lt;chr&gt;</th><th scope=col>&lt;chr&gt;</th><th scope=col>&lt;fct&gt;</th><th scope=col>&lt;fct&gt;</th><th scope=col>&lt;chr&gt;</th><th scope=col>&lt;dbl&gt;</th><th scope=col>&lt;dbl&gt;</th><th scope=col>&lt;chr&gt;</th><th scope=col>&lt;int&gt;</th><th scope=col>&lt;int&gt;</th><th scope=col>&lt;fct&gt;</th><th scope=col>&lt;int&gt;</th></tr>\n",
       "</thead>\n",
       "<tbody>\n",
       "\t<tr><th scope=row>1</th><td>1728837</td><td>A</td><td>G</td><td>upstream_gene_variant</td><td>pks5</td><td>Rv1527c</td><td>  NA</td><td> NA</td><td>   </td><td>490</td><td>248</td><td>R</td><td>6</td></tr>\n",
       "\t<tr><th scope=row>2</th><td>3247883</td><td>T</td><td>C</td><td>synonymous_variant   </td><td>ppsA</td><td>Rv2931 </td><td>2439</td><td>813</td><td>S  </td><td>490</td><td>246</td><td>R</td><td>6</td></tr>\n",
       "\t<tr><th scope=row>3</th><td>3896340</td><td>T</td><td>G</td><td>missense_variant     </td><td>    </td><td>Rv3479 </td><td> 521</td><td>174</td><td>L/R</td><td>490</td><td>246</td><td>S</td><td>5</td></tr>\n",
       "\t<tr><th scope=row>4</th><td>3247883</td><td>T</td><td>C</td><td>synonymous_variant   </td><td>ppsA</td><td>Rv2931 </td><td>2439</td><td>813</td><td>S  </td><td>490</td><td>244</td><td>S</td><td>5</td></tr>\n",
       "\t<tr><th scope=row>5</th><td>3896340</td><td>T</td><td>G</td><td>missense_variant     </td><td>    </td><td>Rv3479 </td><td> 521</td><td>174</td><td>L/R</td><td>490</td><td>244</td><td>R</td><td>6</td></tr>\n",
       "\t<tr><th scope=row>6</th><td>1728837</td><td>A</td><td>G</td><td>upstream_gene_variant</td><td>pks5</td><td>Rv1527c</td><td>  NA</td><td> NA</td><td>   </td><td>490</td><td>242</td><td>S</td><td>5</td></tr>\n",
       "</tbody>\n",
       "</table>\n"
      ],
      "text/latex": [
       "A data.frame: 6 × 13\n",
       "\\begin{tabular}{r|lllllllllllll}\n",
       "  & position & REF & ALT & consequence & gene & Rv.number & gene.position & protein.position & AA & total\\_mut & total\\_mut\\_res & inh & lineages\\\\\n",
       "  & <int> & <chr> & <chr> & <fct> & <fct> & <chr> & <dbl> & <dbl> & <chr> & <int> & <int> & <fct> & <int>\\\\\n",
       "\\hline\n",
       "\t1 & 1728837 & A & G & upstream\\_gene\\_variant & pks5 & Rv1527c &   NA &  NA &     & 490 & 248 & R & 6\\\\\n",
       "\t2 & 3247883 & T & C & synonymous\\_variant    & ppsA & Rv2931  & 2439 & 813 & S   & 490 & 246 & R & 6\\\\\n",
       "\t3 & 3896340 & T & G & missense\\_variant      &      & Rv3479  &  521 & 174 & L/R & 490 & 246 & S & 5\\\\\n",
       "\t4 & 3247883 & T & C & synonymous\\_variant    & ppsA & Rv2931  & 2439 & 813 & S   & 490 & 244 & S & 5\\\\\n",
       "\t5 & 3896340 & T & G & missense\\_variant      &      & Rv3479  &  521 & 174 & L/R & 490 & 244 & R & 6\\\\\n",
       "\t6 & 1728837 & A & G & upstream\\_gene\\_variant & pks5 & Rv1527c &   NA &  NA &     & 490 & 242 & S & 5\\\\\n",
       "\\end{tabular}\n"
      ],
      "text/markdown": [
       "\n",
       "A data.frame: 6 × 13\n",
       "\n",
       "| <!--/--> | position &lt;int&gt; | REF &lt;chr&gt; | ALT &lt;chr&gt; | consequence &lt;fct&gt; | gene &lt;fct&gt; | Rv.number &lt;chr&gt; | gene.position &lt;dbl&gt; | protein.position &lt;dbl&gt; | AA &lt;chr&gt; | total_mut &lt;int&gt; | total_mut_res &lt;int&gt; | inh &lt;fct&gt; | lineages &lt;int&gt; |\n",
       "|---|---|---|---|---|---|---|---|---|---|---|---|---|---|\n",
       "| 1 | 1728837 | A | G | upstream_gene_variant | pks5 | Rv1527c |   NA |  NA | <!----> | 490 | 248 | R | 6 |\n",
       "| 2 | 3247883 | T | C | synonymous_variant    | ppsA | Rv2931  | 2439 | 813 | S   | 490 | 246 | R | 6 |\n",
       "| 3 | 3896340 | T | G | missense_variant      | <!----> | Rv3479  |  521 | 174 | L/R | 490 | 246 | S | 5 |\n",
       "| 4 | 3247883 | T | C | synonymous_variant    | ppsA | Rv2931  | 2439 | 813 | S   | 490 | 244 | S | 5 |\n",
       "| 5 | 3896340 | T | G | missense_variant      | <!----> | Rv3479  |  521 | 174 | L/R | 490 | 244 | R | 6 |\n",
       "| 6 | 1728837 | A | G | upstream_gene_variant | pks5 | Rv1527c |   NA |  NA | <!----> | 490 | 242 | S | 5 |\n",
       "\n"
      ],
      "text/plain": [
       "  position REF ALT consequence           gene Rv.number gene.position\n",
       "1 1728837  A   G   upstream_gene_variant pks5 Rv1527c     NA         \n",
       "2 3247883  T   C   synonymous_variant    ppsA Rv2931    2439         \n",
       "3 3896340  T   G   missense_variant           Rv3479     521         \n",
       "4 3247883  T   C   synonymous_variant    ppsA Rv2931    2439         \n",
       "5 3896340  T   G   missense_variant           Rv3479     521         \n",
       "6 1728837  A   G   upstream_gene_variant pks5 Rv1527c     NA         \n",
       "  protein.position AA  total_mut total_mut_res inh lineages\n",
       "1  NA                  490       248           R   6       \n",
       "2 813              S   490       246           R   6       \n",
       "3 174              L/R 490       246           S   5       \n",
       "4 813              S   490       244           S   5       \n",
       "5 174              L/R 490       244           R   6       \n",
       "6  NA                  490       242           S   5       "
      ]
     },
     "metadata": {},
     "output_type": "display_data"
    }
   ],
   "source": [
    "vcf.agg %<>% arrange(desc(total_mut), desc(total_mut_res))\n",
    "head(vcf.agg)"
   ]
  },
  {
   "cell_type": "markdown",
   "id": "noble-house",
   "metadata": {},
   "source": [
    "I do not think it makes any sense that synonymous variants would lead to resistance. \n",
    "I think it is more likely that resistant isolates  happen to have synonymous variants.\n",
    "I will remove those."
   ]
  },
  {
   "cell_type": "code",
   "execution_count": 91,
   "id": "independent-suffering",
   "metadata": {
    "scrolled": true
   },
   "outputs": [
    {
     "data": {
      "text/html": [
       "<table>\n",
       "<caption>A data.frame: 6 × 13</caption>\n",
       "<thead>\n",
       "\t<tr><th></th><th scope=col>position</th><th scope=col>REF</th><th scope=col>ALT</th><th scope=col>consequence</th><th scope=col>gene</th><th scope=col>Rv.number</th><th scope=col>gene.position</th><th scope=col>protein.position</th><th scope=col>AA</th><th scope=col>total_mut</th><th scope=col>total_mut_res</th><th scope=col>inh</th><th scope=col>lineages</th></tr>\n",
       "\t<tr><th></th><th scope=col>&lt;int&gt;</th><th scope=col>&lt;chr&gt;</th><th scope=col>&lt;chr&gt;</th><th scope=col>&lt;fct&gt;</th><th scope=col>&lt;fct&gt;</th><th scope=col>&lt;chr&gt;</th><th scope=col>&lt;dbl&gt;</th><th scope=col>&lt;dbl&gt;</th><th scope=col>&lt;chr&gt;</th><th scope=col>&lt;int&gt;</th><th scope=col>&lt;int&gt;</th><th scope=col>&lt;fct&gt;</th><th scope=col>&lt;int&gt;</th></tr>\n",
       "</thead>\n",
       "<tbody>\n",
       "\t<tr><th scope=row>1</th><td>1728837</td><td>A</td><td>G</td><td>upstream_gene_variant</td><td>pks5</td><td>Rv1527c</td><td> NA</td><td> NA</td><td>   </td><td>490</td><td>248</td><td>R</td><td>6</td></tr>\n",
       "\t<tr><th scope=row>2</th><td>3896340</td><td>T</td><td>G</td><td>missense_variant     </td><td>    </td><td>Rv3479 </td><td>521</td><td>174</td><td>L/R</td><td>490</td><td>246</td><td>S</td><td>5</td></tr>\n",
       "\t<tr><th scope=row>3</th><td>3896340</td><td>T</td><td>G</td><td>missense_variant     </td><td>    </td><td>Rv3479 </td><td>521</td><td>174</td><td>L/R</td><td>490</td><td>244</td><td>R</td><td>6</td></tr>\n",
       "\t<tr><th scope=row>4</th><td>1728837</td><td>A</td><td>G</td><td>upstream_gene_variant</td><td>pks5</td><td>Rv1527c</td><td> NA</td><td> NA</td><td>   </td><td>490</td><td>242</td><td>S</td><td>5</td></tr>\n",
       "\t<tr><th scope=row>5</th><td>2415656</td><td>G</td><td>C</td><td>missense_variant     </td><td>murD</td><td>Rv2155c</td><td>739</td><td>247</td><td>R/G</td><td>489</td><td>246</td><td>R</td><td>6</td></tr>\n",
       "\t<tr><th scope=row>6</th><td>2752698</td><td>C</td><td>A</td><td>upstream_gene_variant</td><td>rpfE</td><td>Rv2450c</td><td> NA</td><td> NA</td><td>   </td><td>489</td><td>245</td><td>S</td><td>5</td></tr>\n",
       "</tbody>\n",
       "</table>\n"
      ],
      "text/latex": [
       "A data.frame: 6 × 13\n",
       "\\begin{tabular}{r|lllllllllllll}\n",
       "  & position & REF & ALT & consequence & gene & Rv.number & gene.position & protein.position & AA & total\\_mut & total\\_mut\\_res & inh & lineages\\\\\n",
       "  & <int> & <chr> & <chr> & <fct> & <fct> & <chr> & <dbl> & <dbl> & <chr> & <int> & <int> & <fct> & <int>\\\\\n",
       "\\hline\n",
       "\t1 & 1728837 & A & G & upstream\\_gene\\_variant & pks5 & Rv1527c &  NA &  NA &     & 490 & 248 & R & 6\\\\\n",
       "\t2 & 3896340 & T & G & missense\\_variant      &      & Rv3479  & 521 & 174 & L/R & 490 & 246 & S & 5\\\\\n",
       "\t3 & 3896340 & T & G & missense\\_variant      &      & Rv3479  & 521 & 174 & L/R & 490 & 244 & R & 6\\\\\n",
       "\t4 & 1728837 & A & G & upstream\\_gene\\_variant & pks5 & Rv1527c &  NA &  NA &     & 490 & 242 & S & 5\\\\\n",
       "\t5 & 2415656 & G & C & missense\\_variant      & murD & Rv2155c & 739 & 247 & R/G & 489 & 246 & R & 6\\\\\n",
       "\t6 & 2752698 & C & A & upstream\\_gene\\_variant & rpfE & Rv2450c &  NA &  NA &     & 489 & 245 & S & 5\\\\\n",
       "\\end{tabular}\n"
      ],
      "text/markdown": [
       "\n",
       "A data.frame: 6 × 13\n",
       "\n",
       "| <!--/--> | position &lt;int&gt; | REF &lt;chr&gt; | ALT &lt;chr&gt; | consequence &lt;fct&gt; | gene &lt;fct&gt; | Rv.number &lt;chr&gt; | gene.position &lt;dbl&gt; | protein.position &lt;dbl&gt; | AA &lt;chr&gt; | total_mut &lt;int&gt; | total_mut_res &lt;int&gt; | inh &lt;fct&gt; | lineages &lt;int&gt; |\n",
       "|---|---|---|---|---|---|---|---|---|---|---|---|---|---|\n",
       "| 1 | 1728837 | A | G | upstream_gene_variant | pks5 | Rv1527c |  NA |  NA | <!----> | 490 | 248 | R | 6 |\n",
       "| 2 | 3896340 | T | G | missense_variant      | <!----> | Rv3479  | 521 | 174 | L/R | 490 | 246 | S | 5 |\n",
       "| 3 | 3896340 | T | G | missense_variant      | <!----> | Rv3479  | 521 | 174 | L/R | 490 | 244 | R | 6 |\n",
       "| 4 | 1728837 | A | G | upstream_gene_variant | pks5 | Rv1527c |  NA |  NA | <!----> | 490 | 242 | S | 5 |\n",
       "| 5 | 2415656 | G | C | missense_variant      | murD | Rv2155c | 739 | 247 | R/G | 489 | 246 | R | 6 |\n",
       "| 6 | 2752698 | C | A | upstream_gene_variant | rpfE | Rv2450c |  NA |  NA | <!----> | 489 | 245 | S | 5 |\n",
       "\n"
      ],
      "text/plain": [
       "  position REF ALT consequence           gene Rv.number gene.position\n",
       "1 1728837  A   G   upstream_gene_variant pks5 Rv1527c    NA          \n",
       "2 3896340  T   G   missense_variant           Rv3479    521          \n",
       "3 3896340  T   G   missense_variant           Rv3479    521          \n",
       "4 1728837  A   G   upstream_gene_variant pks5 Rv1527c    NA          \n",
       "5 2415656  G   C   missense_variant      murD Rv2155c   739          \n",
       "6 2752698  C   A   upstream_gene_variant rpfE Rv2450c    NA          \n",
       "  protein.position AA  total_mut total_mut_res inh lineages\n",
       "1  NA                  490       248           R   6       \n",
       "2 174              L/R 490       246           S   5       \n",
       "3 174              L/R 490       244           R   6       \n",
       "4  NA                  490       242           S   5       \n",
       "5 247              R/G 489       246           R   6       \n",
       "6  NA                  489       245           S   5       "
      ]
     },
     "metadata": {},
     "output_type": "display_data"
    }
   ],
   "source": [
    "vcf.agg.filt <- vcf.agg %>% \n",
    "    filter(consequence != \"synonymous_variant\")\n",
    "\n",
    "vcf.agg.filt %<>% arrange(desc(total_mut), desc(total_mut_res))\n",
    "head(vcf.agg.filt)"
   ]
  },
  {
   "cell_type": "code",
   "execution_count": 92,
   "id": "applicable-strengthening",
   "metadata": {},
   "outputs": [
    {
     "data": {
      "text/html": [
       "<table>\n",
       "<caption>A data.frame: 6 × 19</caption>\n",
       "<thead>\n",
       "\t<tr><th></th><th scope=col>position</th><th scope=col>REF</th><th scope=col>ALT</th><th scope=col>consequence</th><th scope=col>gene</th><th scope=col>Rv.number</th><th scope=col>gene.position</th><th scope=col>protein.position</th><th scope=col>AA</th><th scope=col>total_mut</th><th scope=col>total_mut_res</th><th scope=col>inh</th><th scope=col>lineages</th><th scope=col>TP</th><th scope=col>FP</th><th scope=col>TN</th><th scope=col>FN</th><th scope=col>sensitivity</th><th scope=col>specificity</th></tr>\n",
       "\t<tr><th></th><th scope=col>&lt;int&gt;</th><th scope=col>&lt;chr&gt;</th><th scope=col>&lt;chr&gt;</th><th scope=col>&lt;fct&gt;</th><th scope=col>&lt;fct&gt;</th><th scope=col>&lt;chr&gt;</th><th scope=col>&lt;dbl&gt;</th><th scope=col>&lt;dbl&gt;</th><th scope=col>&lt;chr&gt;</th><th scope=col>&lt;int&gt;</th><th scope=col>&lt;int&gt;</th><th scope=col>&lt;fct&gt;</th><th scope=col>&lt;int&gt;</th><th scope=col>&lt;int&gt;</th><th scope=col>&lt;int&gt;</th><th scope=col>&lt;dbl&gt;</th><th scope=col>&lt;dbl&gt;</th><th scope=col>&lt;dbl&gt;</th><th scope=col>&lt;dbl&gt;</th></tr>\n",
       "</thead>\n",
       "<tbody>\n",
       "\t<tr><th scope=row>1</th><td>1728837</td><td>A</td><td>G</td><td>upstream_gene_variant</td><td>pks5</td><td>Rv1527c</td><td>  NA</td><td> NA</td><td>   </td><td>490</td><td>248</td><td>R</td><td>6</td><td>248</td><td>242</td><td>8</td><td>1</td><td>99.59839</td><td>3.2</td></tr>\n",
       "\t<tr><th scope=row>2</th><td>3896340</td><td>T</td><td>G</td><td>missense_variant     </td><td>    </td><td>Rv3479 </td><td> 521</td><td>174</td><td>L/R</td><td>490</td><td>244</td><td>R</td><td>6</td><td>244</td><td>246</td><td>4</td><td>5</td><td>97.99197</td><td>1.6</td></tr>\n",
       "\t<tr><th scope=row>3</th><td>2415656</td><td>G</td><td>C</td><td>missense_variant     </td><td>murD</td><td>Rv2155c</td><td> 739</td><td>247</td><td>R/G</td><td>489</td><td>246</td><td>R</td><td>6</td><td>246</td><td>243</td><td>7</td><td>3</td><td>98.79518</td><td>2.8</td></tr>\n",
       "\t<tr><th scope=row>4</th><td>2752698</td><td>C</td><td>A</td><td>upstream_gene_variant</td><td>rpfE</td><td>Rv2450c</td><td>  NA</td><td> NA</td><td>   </td><td>489</td><td>244</td><td>R</td><td>6</td><td>244</td><td>245</td><td>5</td><td>5</td><td>97.99197</td><td>2.0</td></tr>\n",
       "\t<tr><th scope=row>5</th><td>1536251</td><td>G</td><td>T</td><td>missense_variant     </td><td>    </td><td>Rv1364c</td><td>1394</td><td>465</td><td>A/E</td><td>489</td><td>244</td><td>R</td><td>6</td><td>244</td><td>245</td><td>5</td><td>5</td><td>97.99197</td><td>2.0</td></tr>\n",
       "\t<tr><th scope=row>6</th><td>2612632</td><td>C</td><td>A</td><td>missense_variant     </td><td>    </td><td>Rv2337c</td><td> 356</td><td>119</td><td>G/V</td><td>488</td><td>245</td><td>R</td><td>6</td><td>245</td><td>243</td><td>7</td><td>4</td><td>98.39357</td><td>2.8</td></tr>\n",
       "</tbody>\n",
       "</table>\n"
      ],
      "text/latex": [
       "A data.frame: 6 × 19\n",
       "\\begin{tabular}{r|lllllllllllllllllll}\n",
       "  & position & REF & ALT & consequence & gene & Rv.number & gene.position & protein.position & AA & total\\_mut & total\\_mut\\_res & inh & lineages & TP & FP & TN & FN & sensitivity & specificity\\\\\n",
       "  & <int> & <chr> & <chr> & <fct> & <fct> & <chr> & <dbl> & <dbl> & <chr> & <int> & <int> & <fct> & <int> & <int> & <int> & <dbl> & <dbl> & <dbl> & <dbl>\\\\\n",
       "\\hline\n",
       "\t1 & 1728837 & A & G & upstream\\_gene\\_variant & pks5 & Rv1527c &   NA &  NA &     & 490 & 248 & R & 6 & 248 & 242 & 8 & 1 & 99.59839 & 3.2\\\\\n",
       "\t2 & 3896340 & T & G & missense\\_variant      &      & Rv3479  &  521 & 174 & L/R & 490 & 244 & R & 6 & 244 & 246 & 4 & 5 & 97.99197 & 1.6\\\\\n",
       "\t3 & 2415656 & G & C & missense\\_variant      & murD & Rv2155c &  739 & 247 & R/G & 489 & 246 & R & 6 & 246 & 243 & 7 & 3 & 98.79518 & 2.8\\\\\n",
       "\t4 & 2752698 & C & A & upstream\\_gene\\_variant & rpfE & Rv2450c &   NA &  NA &     & 489 & 244 & R & 6 & 244 & 245 & 5 & 5 & 97.99197 & 2.0\\\\\n",
       "\t5 & 1536251 & G & T & missense\\_variant      &      & Rv1364c & 1394 & 465 & A/E & 489 & 244 & R & 6 & 244 & 245 & 5 & 5 & 97.99197 & 2.0\\\\\n",
       "\t6 & 2612632 & C & A & missense\\_variant      &      & Rv2337c &  356 & 119 & G/V & 488 & 245 & R & 6 & 245 & 243 & 7 & 4 & 98.39357 & 2.8\\\\\n",
       "\\end{tabular}\n"
      ],
      "text/markdown": [
       "\n",
       "A data.frame: 6 × 19\n",
       "\n",
       "| <!--/--> | position &lt;int&gt; | REF &lt;chr&gt; | ALT &lt;chr&gt; | consequence &lt;fct&gt; | gene &lt;fct&gt; | Rv.number &lt;chr&gt; | gene.position &lt;dbl&gt; | protein.position &lt;dbl&gt; | AA &lt;chr&gt; | total_mut &lt;int&gt; | total_mut_res &lt;int&gt; | inh &lt;fct&gt; | lineages &lt;int&gt; | TP &lt;int&gt; | FP &lt;int&gt; | TN &lt;dbl&gt; | FN &lt;dbl&gt; | sensitivity &lt;dbl&gt; | specificity &lt;dbl&gt; |\n",
       "|---|---|---|---|---|---|---|---|---|---|---|---|---|---|---|---|---|---|---|---|\n",
       "| 1 | 1728837 | A | G | upstream_gene_variant | pks5 | Rv1527c |   NA |  NA | <!----> | 490 | 248 | R | 6 | 248 | 242 | 8 | 1 | 99.59839 | 3.2 |\n",
       "| 2 | 3896340 | T | G | missense_variant      | <!----> | Rv3479  |  521 | 174 | L/R | 490 | 244 | R | 6 | 244 | 246 | 4 | 5 | 97.99197 | 1.6 |\n",
       "| 3 | 2415656 | G | C | missense_variant      | murD | Rv2155c |  739 | 247 | R/G | 489 | 246 | R | 6 | 246 | 243 | 7 | 3 | 98.79518 | 2.8 |\n",
       "| 4 | 2752698 | C | A | upstream_gene_variant | rpfE | Rv2450c |   NA |  NA | <!----> | 489 | 244 | R | 6 | 244 | 245 | 5 | 5 | 97.99197 | 2.0 |\n",
       "| 5 | 1536251 | G | T | missense_variant      | <!----> | Rv1364c | 1394 | 465 | A/E | 489 | 244 | R | 6 | 244 | 245 | 5 | 5 | 97.99197 | 2.0 |\n",
       "| 6 | 2612632 | C | A | missense_variant      | <!----> | Rv2337c |  356 | 119 | G/V | 488 | 245 | R | 6 | 245 | 243 | 7 | 4 | 98.39357 | 2.8 |\n",
       "\n"
      ],
      "text/plain": [
       "  position REF ALT consequence           gene Rv.number gene.position\n",
       "1 1728837  A   G   upstream_gene_variant pks5 Rv1527c     NA         \n",
       "2 3896340  T   G   missense_variant           Rv3479     521         \n",
       "3 2415656  G   C   missense_variant      murD Rv2155c    739         \n",
       "4 2752698  C   A   upstream_gene_variant rpfE Rv2450c     NA         \n",
       "5 1536251  G   T   missense_variant           Rv1364c   1394         \n",
       "6 2612632  C   A   missense_variant           Rv2337c    356         \n",
       "  protein.position AA  total_mut total_mut_res inh lineages TP  FP  TN FN\n",
       "1  NA                  490       248           R   6        248 242 8  1 \n",
       "2 174              L/R 490       244           R   6        244 246 4  5 \n",
       "3 247              R/G 489       246           R   6        246 243 7  3 \n",
       "4  NA                  489       244           R   6        244 245 5  5 \n",
       "5 465              A/E 489       244           R   6        244 245 5  5 \n",
       "6 119              G/V 488       245           R   6        245 243 7  4 \n",
       "  sensitivity specificity\n",
       "1 99.59839    3.2        \n",
       "2 97.99197    1.6        \n",
       "3 98.79518    2.8        \n",
       "4 97.99197    2.0        \n",
       "5 97.99197    2.0        \n",
       "6 98.39357    2.8        "
      ]
     },
     "metadata": {},
     "output_type": "display_data"
    }
   ],
   "source": [
    "vcf.agg.filt %<>% \n",
    "    filter(inh == \"R\") %>% \n",
    "    mutate(\n",
    "        TP = total_mut_res, \n",
    "        FP = total_mut - TP,\n",
    "        TN = 250 - FP,\n",
    "        FN = 249 - TP,\n",
    "        sensitivity = (TP*100)/(TP+FN),\n",
    "        specificity = (TN*100)/(TN+FP)\n",
    "    )\n",
    "\n",
    "head(vcf.agg.filt)"
   ]
  },
  {
   "cell_type": "code",
   "execution_count": 93,
   "id": "massive-volunteer",
   "metadata": {
    "scrolled": true
   },
   "outputs": [
    {
     "data": {
      "text/html": [
       "<table>\n",
       "<caption>A data.frame: 6 × 20</caption>\n",
       "<thead>\n",
       "\t<tr><th></th><th scope=col>position</th><th scope=col>REF</th><th scope=col>ALT</th><th scope=col>consequence</th><th scope=col>gene</th><th scope=col>Rv.number</th><th scope=col>gene.position</th><th scope=col>protein.position</th><th scope=col>AA</th><th scope=col>total_mut</th><th scope=col>total_mut_res</th><th scope=col>inh</th><th scope=col>lineages</th><th scope=col>TP</th><th scope=col>FP</th><th scope=col>TN</th><th scope=col>FN</th><th scope=col>sensitivity</th><th scope=col>specificity</th><th scope=col>variant</th></tr>\n",
       "\t<tr><th></th><th scope=col>&lt;int&gt;</th><th scope=col>&lt;chr&gt;</th><th scope=col>&lt;chr&gt;</th><th scope=col>&lt;fct&gt;</th><th scope=col>&lt;fct&gt;</th><th scope=col>&lt;chr&gt;</th><th scope=col>&lt;dbl&gt;</th><th scope=col>&lt;dbl&gt;</th><th scope=col>&lt;chr&gt;</th><th scope=col>&lt;int&gt;</th><th scope=col>&lt;int&gt;</th><th scope=col>&lt;fct&gt;</th><th scope=col>&lt;int&gt;</th><th scope=col>&lt;int&gt;</th><th scope=col>&lt;int&gt;</th><th scope=col>&lt;dbl&gt;</th><th scope=col>&lt;dbl&gt;</th><th scope=col>&lt;dbl&gt;</th><th scope=col>&lt;dbl&gt;</th><th scope=col>&lt;chr&gt;</th></tr>\n",
       "</thead>\n",
       "<tbody>\n",
       "\t<tr><th scope=row>1</th><td>1728837</td><td>A</td><td>G</td><td>upstream_gene_variant</td><td>pks5</td><td>Rv1527c</td><td>  NA</td><td> NA</td><td>   </td><td>490</td><td>248</td><td>R</td><td>6</td><td>248</td><td>242</td><td>8</td><td>1</td><td>99.59839</td><td>3.2</td><td>pks5 NA     </td></tr>\n",
       "\t<tr><th scope=row>2</th><td>3896340</td><td>T</td><td>G</td><td>missense_variant     </td><td>    </td><td>Rv3479 </td><td> 521</td><td>174</td><td>L/R</td><td>490</td><td>244</td><td>R</td><td>6</td><td>244</td><td>246</td><td>4</td><td>5</td><td>97.99197</td><td>1.6</td><td> 174 L/R    </td></tr>\n",
       "\t<tr><th scope=row>3</th><td>2415656</td><td>G</td><td>C</td><td>missense_variant     </td><td>murD</td><td>Rv2155c</td><td> 739</td><td>247</td><td>R/G</td><td>489</td><td>246</td><td>R</td><td>6</td><td>246</td><td>243</td><td>7</td><td>3</td><td>98.79518</td><td>2.8</td><td>murD 247 R/G</td></tr>\n",
       "\t<tr><th scope=row>4</th><td>2752698</td><td>C</td><td>A</td><td>upstream_gene_variant</td><td>rpfE</td><td>Rv2450c</td><td>  NA</td><td> NA</td><td>   </td><td>489</td><td>244</td><td>R</td><td>6</td><td>244</td><td>245</td><td>5</td><td>5</td><td>97.99197</td><td>2.0</td><td>rpfE NA     </td></tr>\n",
       "\t<tr><th scope=row>5</th><td>1536251</td><td>G</td><td>T</td><td>missense_variant     </td><td>    </td><td>Rv1364c</td><td>1394</td><td>465</td><td>A/E</td><td>489</td><td>244</td><td>R</td><td>6</td><td>244</td><td>245</td><td>5</td><td>5</td><td>97.99197</td><td>2.0</td><td> 465 A/E    </td></tr>\n",
       "\t<tr><th scope=row>6</th><td>2612632</td><td>C</td><td>A</td><td>missense_variant     </td><td>    </td><td>Rv2337c</td><td> 356</td><td>119</td><td>G/V</td><td>488</td><td>245</td><td>R</td><td>6</td><td>245</td><td>243</td><td>7</td><td>4</td><td>98.39357</td><td>2.8</td><td> 119 G/V    </td></tr>\n",
       "</tbody>\n",
       "</table>\n"
      ],
      "text/latex": [
       "A data.frame: 6 × 20\n",
       "\\begin{tabular}{r|llllllllllllllllllll}\n",
       "  & position & REF & ALT & consequence & gene & Rv.number & gene.position & protein.position & AA & total\\_mut & total\\_mut\\_res & inh & lineages & TP & FP & TN & FN & sensitivity & specificity & variant\\\\\n",
       "  & <int> & <chr> & <chr> & <fct> & <fct> & <chr> & <dbl> & <dbl> & <chr> & <int> & <int> & <fct> & <int> & <int> & <int> & <dbl> & <dbl> & <dbl> & <dbl> & <chr>\\\\\n",
       "\\hline\n",
       "\t1 & 1728837 & A & G & upstream\\_gene\\_variant & pks5 & Rv1527c &   NA &  NA &     & 490 & 248 & R & 6 & 248 & 242 & 8 & 1 & 99.59839 & 3.2 & pks5 NA     \\\\\n",
       "\t2 & 3896340 & T & G & missense\\_variant      &      & Rv3479  &  521 & 174 & L/R & 490 & 244 & R & 6 & 244 & 246 & 4 & 5 & 97.99197 & 1.6 &  174 L/R    \\\\\n",
       "\t3 & 2415656 & G & C & missense\\_variant      & murD & Rv2155c &  739 & 247 & R/G & 489 & 246 & R & 6 & 246 & 243 & 7 & 3 & 98.79518 & 2.8 & murD 247 R/G\\\\\n",
       "\t4 & 2752698 & C & A & upstream\\_gene\\_variant & rpfE & Rv2450c &   NA &  NA &     & 489 & 244 & R & 6 & 244 & 245 & 5 & 5 & 97.99197 & 2.0 & rpfE NA     \\\\\n",
       "\t5 & 1536251 & G & T & missense\\_variant      &      & Rv1364c & 1394 & 465 & A/E & 489 & 244 & R & 6 & 244 & 245 & 5 & 5 & 97.99197 & 2.0 &  465 A/E    \\\\\n",
       "\t6 & 2612632 & C & A & missense\\_variant      &      & Rv2337c &  356 & 119 & G/V & 488 & 245 & R & 6 & 245 & 243 & 7 & 4 & 98.39357 & 2.8 &  119 G/V    \\\\\n",
       "\\end{tabular}\n"
      ],
      "text/markdown": [
       "\n",
       "A data.frame: 6 × 20\n",
       "\n",
       "| <!--/--> | position &lt;int&gt; | REF &lt;chr&gt; | ALT &lt;chr&gt; | consequence &lt;fct&gt; | gene &lt;fct&gt; | Rv.number &lt;chr&gt; | gene.position &lt;dbl&gt; | protein.position &lt;dbl&gt; | AA &lt;chr&gt; | total_mut &lt;int&gt; | total_mut_res &lt;int&gt; | inh &lt;fct&gt; | lineages &lt;int&gt; | TP &lt;int&gt; | FP &lt;int&gt; | TN &lt;dbl&gt; | FN &lt;dbl&gt; | sensitivity &lt;dbl&gt; | specificity &lt;dbl&gt; | variant &lt;chr&gt; |\n",
       "|---|---|---|---|---|---|---|---|---|---|---|---|---|---|---|---|---|---|---|---|---|\n",
       "| 1 | 1728837 | A | G | upstream_gene_variant | pks5 | Rv1527c |   NA |  NA | <!----> | 490 | 248 | R | 6 | 248 | 242 | 8 | 1 | 99.59839 | 3.2 | pks5 NA      |\n",
       "| 2 | 3896340 | T | G | missense_variant      | <!----> | Rv3479  |  521 | 174 | L/R | 490 | 244 | R | 6 | 244 | 246 | 4 | 5 | 97.99197 | 1.6 |  174 L/R     |\n",
       "| 3 | 2415656 | G | C | missense_variant      | murD | Rv2155c |  739 | 247 | R/G | 489 | 246 | R | 6 | 246 | 243 | 7 | 3 | 98.79518 | 2.8 | murD 247 R/G |\n",
       "| 4 | 2752698 | C | A | upstream_gene_variant | rpfE | Rv2450c |   NA |  NA | <!----> | 489 | 244 | R | 6 | 244 | 245 | 5 | 5 | 97.99197 | 2.0 | rpfE NA      |\n",
       "| 5 | 1536251 | G | T | missense_variant      | <!----> | Rv1364c | 1394 | 465 | A/E | 489 | 244 | R | 6 | 244 | 245 | 5 | 5 | 97.99197 | 2.0 |  465 A/E     |\n",
       "| 6 | 2612632 | C | A | missense_variant      | <!----> | Rv2337c |  356 | 119 | G/V | 488 | 245 | R | 6 | 245 | 243 | 7 | 4 | 98.39357 | 2.8 |  119 G/V     |\n",
       "\n"
      ],
      "text/plain": [
       "  position REF ALT consequence           gene Rv.number gene.position\n",
       "1 1728837  A   G   upstream_gene_variant pks5 Rv1527c     NA         \n",
       "2 3896340  T   G   missense_variant           Rv3479     521         \n",
       "3 2415656  G   C   missense_variant      murD Rv2155c    739         \n",
       "4 2752698  C   A   upstream_gene_variant rpfE Rv2450c     NA         \n",
       "5 1536251  G   T   missense_variant           Rv1364c   1394         \n",
       "6 2612632  C   A   missense_variant           Rv2337c    356         \n",
       "  protein.position AA  total_mut total_mut_res inh lineages TP  FP  TN FN\n",
       "1  NA                  490       248           R   6        248 242 8  1 \n",
       "2 174              L/R 490       244           R   6        244 246 4  5 \n",
       "3 247              R/G 489       246           R   6        246 243 7  3 \n",
       "4  NA                  489       244           R   6        244 245 5  5 \n",
       "5 465              A/E 489       244           R   6        244 245 5  5 \n",
       "6 119              G/V 488       245           R   6        245 243 7  4 \n",
       "  sensitivity specificity variant     \n",
       "1 99.59839    3.2         pks5 NA     \n",
       "2 97.99197    1.6          174 L/R    \n",
       "3 98.79518    2.8         murD 247 R/G\n",
       "4 97.99197    2.0         rpfE NA     \n",
       "5 97.99197    2.0          465 A/E    \n",
       "6 98.39357    2.8          119 G/V    "
      ]
     },
     "metadata": {},
     "output_type": "display_data"
    }
   ],
   "source": [
    "vcf.agg.filt %<>% \n",
    "    mutate(variant = paste(gene,protein.position, AA))\n",
    "\n",
    "head(vcf.agg.filt)"
   ]
  },
  {
   "cell_type": "code",
   "execution_count": 94,
   "id": "administrative-modification",
   "metadata": {},
   "outputs": [
    {
     "data": {
      "text/html": [
       "<table>\n",
       "<caption>A data.frame: 11 × 20</caption>\n",
       "<thead>\n",
       "\t<tr><th scope=col>position</th><th scope=col>REF</th><th scope=col>ALT</th><th scope=col>consequence</th><th scope=col>gene</th><th scope=col>Rv.number</th><th scope=col>gene.position</th><th scope=col>protein.position</th><th scope=col>AA</th><th scope=col>total_mut</th><th scope=col>total_mut_res</th><th scope=col>inh</th><th scope=col>lineages</th><th scope=col>TP</th><th scope=col>FP</th><th scope=col>TN</th><th scope=col>FN</th><th scope=col>sensitivity</th><th scope=col>specificity</th><th scope=col>variant</th></tr>\n",
       "\t<tr><th scope=col>&lt;int&gt;</th><th scope=col>&lt;chr&gt;</th><th scope=col>&lt;chr&gt;</th><th scope=col>&lt;fct&gt;</th><th scope=col>&lt;fct&gt;</th><th scope=col>&lt;chr&gt;</th><th scope=col>&lt;dbl&gt;</th><th scope=col>&lt;dbl&gt;</th><th scope=col>&lt;chr&gt;</th><th scope=col>&lt;int&gt;</th><th scope=col>&lt;int&gt;</th><th scope=col>&lt;fct&gt;</th><th scope=col>&lt;int&gt;</th><th scope=col>&lt;int&gt;</th><th scope=col>&lt;int&gt;</th><th scope=col>&lt;dbl&gt;</th><th scope=col>&lt;dbl&gt;</th><th scope=col>&lt;dbl&gt;</th><th scope=col>&lt;dbl&gt;</th><th scope=col>&lt;chr&gt;</th></tr>\n",
       "</thead>\n",
       "<tbody>\n",
       "\t<tr><td>2155168</td><td>C</td><td>G</td><td>missense_variant     </td><td>katG     </td><td>Rv1908c</td><td> 944</td><td>315</td><td>S/T</td><td>193</td><td>190</td><td>R</td><td>4</td><td>190</td><td> 3</td><td>247</td><td>59</td><td>76.30522</td><td>98.8</td><td>katG 315 S/T </td></tr>\n",
       "\t<tr><td>2338811</td><td>A</td><td>G</td><td>missense_variant     </td><td>         </td><td>Rv2082 </td><td> 103</td><td> 35</td><td>K/E</td><td>268</td><td>182</td><td>R</td><td>4</td><td>182</td><td>86</td><td>164</td><td>67</td><td>73.09237</td><td>65.6</td><td> 35 K/E      </td></tr>\n",
       "\t<tr><td> 104962</td><td>G</td><td>A</td><td>missense_variant     </td><td>         </td><td>Rv0095c</td><td> 254</td><td> 85</td><td>A/V</td><td>241</td><td>167</td><td>R</td><td>5</td><td>167</td><td>74</td><td>176</td><td>82</td><td>67.06827</td><td>70.4</td><td> 85 A/V      </td></tr>\n",
       "\t<tr><td>2975227</td><td>T</td><td>G</td><td>missense_variant     </td><td>         </td><td>Rv2650c</td><td>   8</td><td>  3</td><td>N/T</td><td>247</td><td>164</td><td>R</td><td>5</td><td>164</td><td>83</td><td>167</td><td>85</td><td>65.86345</td><td>66.8</td><td> 3 N/T       </td></tr>\n",
       "\t<tr><td>2867298</td><td>C</td><td>A</td><td>missense_variant     </td><td>lppB     </td><td>Rv2544 </td><td> 175</td><td> 59</td><td>H/N</td><td>230</td><td>164</td><td>R</td><td>5</td><td>164</td><td>66</td><td>184</td><td>85</td><td>65.86345</td><td>73.6</td><td>lppB 59 H/N  </td></tr>\n",
       "\t<tr><td>4254290</td><td>T</td><td>G</td><td>missense_variant     </td><td>         </td><td>Rv3798 </td><td>1298</td><td>433</td><td>L/R</td><td>212</td><td>164</td><td>R</td><td>4</td><td>164</td><td>48</td><td>202</td><td>85</td><td>65.86345</td><td>80.8</td><td> 433 L/R     </td></tr>\n",
       "\t<tr><td> 105007</td><td>C</td><td>G</td><td>missense_variant     </td><td>         </td><td>Rv0095c</td><td> 209</td><td> 70</td><td>S/T</td><td>208</td><td>164</td><td>R</td><td>6</td><td>164</td><td>44</td><td>206</td><td>85</td><td>65.86345</td><td>82.4</td><td> 70 S/T      </td></tr>\n",
       "\t<tr><td>4120926</td><td>A</td><td>G</td><td>missense_variant     </td><td>         </td><td>Rv3680 </td><td>1132</td><td>378</td><td>N/D</td><td>237</td><td>163</td><td>R</td><td>4</td><td>163</td><td>74</td><td>176</td><td>86</td><td>65.46185</td><td>70.4</td><td> 378 N/D     </td></tr>\n",
       "\t<tr><td>  75233</td><td>C</td><td>A</td><td>upstream_gene_variant</td><td>         </td><td>Rv0067c</td><td>  NA</td><td> NA</td><td>   </td><td>243</td><td>162</td><td>R</td><td>4</td><td>162</td><td>81</td><td>169</td><td>87</td><td>65.06024</td><td>67.6</td><td> NA          </td></tr>\n",
       "\t<tr><td>1096567</td><td>A</td><td>G</td><td>upstream_gene_variant</td><td>PE_PGRS18</td><td>Rv0980c</td><td>  NA</td><td> NA</td><td>   </td><td>242</td><td>162</td><td>R</td><td>4</td><td>162</td><td>80</td><td>170</td><td>87</td><td>65.06024</td><td>68.0</td><td>PE_PGRS18 NA </td></tr>\n",
       "\t<tr><td> 340132</td><td>G</td><td>A</td><td>missense_variant     </td><td>PPE3     </td><td>Rv0280 </td><td> 769</td><td>257</td><td>E/K</td><td>229</td><td>162</td><td>R</td><td>5</td><td>162</td><td>67</td><td>183</td><td>87</td><td>65.06024</td><td>73.2</td><td>PPE3 257 E/K </td></tr>\n",
       "</tbody>\n",
       "</table>\n"
      ],
      "text/latex": [
       "A data.frame: 11 × 20\n",
       "\\begin{tabular}{llllllllllllllllllll}\n",
       " position & REF & ALT & consequence & gene & Rv.number & gene.position & protein.position & AA & total\\_mut & total\\_mut\\_res & inh & lineages & TP & FP & TN & FN & sensitivity & specificity & variant\\\\\n",
       " <int> & <chr> & <chr> & <fct> & <fct> & <chr> & <dbl> & <dbl> & <chr> & <int> & <int> & <fct> & <int> & <int> & <int> & <dbl> & <dbl> & <dbl> & <dbl> & <chr>\\\\\n",
       "\\hline\n",
       "\t 2155168 & C & G & missense\\_variant      & katG      & Rv1908c &  944 & 315 & S/T & 193 & 190 & R & 4 & 190 &  3 & 247 & 59 & 76.30522 & 98.8 & katG 315 S/T \\\\\n",
       "\t 2338811 & A & G & missense\\_variant      &           & Rv2082  &  103 &  35 & K/E & 268 & 182 & R & 4 & 182 & 86 & 164 & 67 & 73.09237 & 65.6 &  35 K/E      \\\\\n",
       "\t  104962 & G & A & missense\\_variant      &           & Rv0095c &  254 &  85 & A/V & 241 & 167 & R & 5 & 167 & 74 & 176 & 82 & 67.06827 & 70.4 &  85 A/V      \\\\\n",
       "\t 2975227 & T & G & missense\\_variant      &           & Rv2650c &    8 &   3 & N/T & 247 & 164 & R & 5 & 164 & 83 & 167 & 85 & 65.86345 & 66.8 &  3 N/T       \\\\\n",
       "\t 2867298 & C & A & missense\\_variant      & lppB      & Rv2544  &  175 &  59 & H/N & 230 & 164 & R & 5 & 164 & 66 & 184 & 85 & 65.86345 & 73.6 & lppB 59 H/N  \\\\\n",
       "\t 4254290 & T & G & missense\\_variant      &           & Rv3798  & 1298 & 433 & L/R & 212 & 164 & R & 4 & 164 & 48 & 202 & 85 & 65.86345 & 80.8 &  433 L/R     \\\\\n",
       "\t  105007 & C & G & missense\\_variant      &           & Rv0095c &  209 &  70 & S/T & 208 & 164 & R & 6 & 164 & 44 & 206 & 85 & 65.86345 & 82.4 &  70 S/T      \\\\\n",
       "\t 4120926 & A & G & missense\\_variant      &           & Rv3680  & 1132 & 378 & N/D & 237 & 163 & R & 4 & 163 & 74 & 176 & 86 & 65.46185 & 70.4 &  378 N/D     \\\\\n",
       "\t   75233 & C & A & upstream\\_gene\\_variant &           & Rv0067c &   NA &  NA &     & 243 & 162 & R & 4 & 162 & 81 & 169 & 87 & 65.06024 & 67.6 &  NA          \\\\\n",
       "\t 1096567 & A & G & upstream\\_gene\\_variant & PE\\_PGRS18 & Rv0980c &   NA &  NA &     & 242 & 162 & R & 4 & 162 & 80 & 170 & 87 & 65.06024 & 68.0 & PE\\_PGRS18 NA \\\\\n",
       "\t  340132 & G & A & missense\\_variant      & PPE3      & Rv0280  &  769 & 257 & E/K & 229 & 162 & R & 5 & 162 & 67 & 183 & 87 & 65.06024 & 73.2 & PPE3 257 E/K \\\\\n",
       "\\end{tabular}\n"
      ],
      "text/markdown": [
       "\n",
       "A data.frame: 11 × 20\n",
       "\n",
       "| position &lt;int&gt; | REF &lt;chr&gt; | ALT &lt;chr&gt; | consequence &lt;fct&gt; | gene &lt;fct&gt; | Rv.number &lt;chr&gt; | gene.position &lt;dbl&gt; | protein.position &lt;dbl&gt; | AA &lt;chr&gt; | total_mut &lt;int&gt; | total_mut_res &lt;int&gt; | inh &lt;fct&gt; | lineages &lt;int&gt; | TP &lt;int&gt; | FP &lt;int&gt; | TN &lt;dbl&gt; | FN &lt;dbl&gt; | sensitivity &lt;dbl&gt; | specificity &lt;dbl&gt; | variant &lt;chr&gt; |\n",
       "|---|---|---|---|---|---|---|---|---|---|---|---|---|---|---|---|---|---|---|---|\n",
       "| 2155168 | C | G | missense_variant      | katG      | Rv1908c |  944 | 315 | S/T | 193 | 190 | R | 4 | 190 |  3 | 247 | 59 | 76.30522 | 98.8 | katG 315 S/T  |\n",
       "| 2338811 | A | G | missense_variant      | <!----> | Rv2082  |  103 |  35 | K/E | 268 | 182 | R | 4 | 182 | 86 | 164 | 67 | 73.09237 | 65.6 |  35 K/E       |\n",
       "|  104962 | G | A | missense_variant      | <!----> | Rv0095c |  254 |  85 | A/V | 241 | 167 | R | 5 | 167 | 74 | 176 | 82 | 67.06827 | 70.4 |  85 A/V       |\n",
       "| 2975227 | T | G | missense_variant      | <!----> | Rv2650c |    8 |   3 | N/T | 247 | 164 | R | 5 | 164 | 83 | 167 | 85 | 65.86345 | 66.8 |  3 N/T        |\n",
       "| 2867298 | C | A | missense_variant      | lppB      | Rv2544  |  175 |  59 | H/N | 230 | 164 | R | 5 | 164 | 66 | 184 | 85 | 65.86345 | 73.6 | lppB 59 H/N   |\n",
       "| 4254290 | T | G | missense_variant      | <!----> | Rv3798  | 1298 | 433 | L/R | 212 | 164 | R | 4 | 164 | 48 | 202 | 85 | 65.86345 | 80.8 |  433 L/R      |\n",
       "|  105007 | C | G | missense_variant      | <!----> | Rv0095c |  209 |  70 | S/T | 208 | 164 | R | 6 | 164 | 44 | 206 | 85 | 65.86345 | 82.4 |  70 S/T       |\n",
       "| 4120926 | A | G | missense_variant      | <!----> | Rv3680  | 1132 | 378 | N/D | 237 | 163 | R | 4 | 163 | 74 | 176 | 86 | 65.46185 | 70.4 |  378 N/D      |\n",
       "|   75233 | C | A | upstream_gene_variant | <!----> | Rv0067c |   NA |  NA | <!----> | 243 | 162 | R | 4 | 162 | 81 | 169 | 87 | 65.06024 | 67.6 |  NA           |\n",
       "| 1096567 | A | G | upstream_gene_variant | PE_PGRS18 | Rv0980c |   NA |  NA | <!----> | 242 | 162 | R | 4 | 162 | 80 | 170 | 87 | 65.06024 | 68.0 | PE_PGRS18 NA  |\n",
       "|  340132 | G | A | missense_variant      | PPE3      | Rv0280  |  769 | 257 | E/K | 229 | 162 | R | 5 | 162 | 67 | 183 | 87 | 65.06024 | 73.2 | PPE3 257 E/K  |\n",
       "\n"
      ],
      "text/plain": [
       "   position REF ALT consequence           gene      Rv.number gene.position\n",
       "1  2155168  C   G   missense_variant      katG      Rv1908c    944         \n",
       "2  2338811  A   G   missense_variant                Rv2082     103         \n",
       "3   104962  G   A   missense_variant                Rv0095c    254         \n",
       "4  2975227  T   G   missense_variant                Rv2650c      8         \n",
       "5  2867298  C   A   missense_variant      lppB      Rv2544     175         \n",
       "6  4254290  T   G   missense_variant                Rv3798    1298         \n",
       "7   105007  C   G   missense_variant                Rv0095c    209         \n",
       "8  4120926  A   G   missense_variant                Rv3680    1132         \n",
       "9    75233  C   A   upstream_gene_variant           Rv0067c     NA         \n",
       "10 1096567  A   G   upstream_gene_variant PE_PGRS18 Rv0980c     NA         \n",
       "11  340132  G   A   missense_variant      PPE3      Rv0280     769         \n",
       "   protein.position AA  total_mut total_mut_res inh lineages TP  FP TN  FN\n",
       "1  315              S/T 193       190           R   4        190  3 247 59\n",
       "2   35              K/E 268       182           R   4        182 86 164 67\n",
       "3   85              A/V 241       167           R   5        167 74 176 82\n",
       "4    3              N/T 247       164           R   5        164 83 167 85\n",
       "5   59              H/N 230       164           R   5        164 66 184 85\n",
       "6  433              L/R 212       164           R   4        164 48 202 85\n",
       "7   70              S/T 208       164           R   6        164 44 206 85\n",
       "8  378              N/D 237       163           R   4        163 74 176 86\n",
       "9   NA                  243       162           R   4        162 81 169 87\n",
       "10  NA                  242       162           R   4        162 80 170 87\n",
       "11 257              E/K 229       162           R   5        162 67 183 87\n",
       "   sensitivity specificity variant      \n",
       "1  76.30522    98.8        katG 315 S/T \n",
       "2  73.09237    65.6         35 K/E      \n",
       "3  67.06827    70.4         85 A/V      \n",
       "4  65.86345    66.8         3 N/T       \n",
       "5  65.86345    73.6        lppB 59 H/N  \n",
       "6  65.86345    80.8         433 L/R     \n",
       "7  65.86345    82.4         70 S/T      \n",
       "8  65.46185    70.4         378 N/D     \n",
       "9  65.06024    67.6         NA          \n",
       "10 65.06024    68.0        PE_PGRS18 NA \n",
       "11 65.06024    73.2        PPE3 257 E/K "
      ]
     },
     "metadata": {},
     "output_type": "display_data"
    }
   ],
   "source": [
    "vcf.agg.filt2 <- vcf.agg.filt %>% \n",
    "    filter(sensitivity >= 65,\n",
    "           specificity >= 65\n",
    "          ) %>% \n",
    "    arrange(desc(sensitivity))\n",
    "\n",
    "vcf.agg.filt2"
   ]
  },
  {
   "cell_type": "code",
   "execution_count": 97,
   "id": "efficient-outside",
   "metadata": {},
   "outputs": [],
   "source": [
    "vcf.unagg %<>% mutate(variant = paste(gene,protein.position, AA))"
   ]
  },
  {
   "cell_type": "code",
   "execution_count": 98,
   "id": "quantitative-mileage",
   "metadata": {},
   "outputs": [
    {
     "data": {
      "text/html": [
       "0.763052208835341"
      ],
      "text/latex": [
       "0.763052208835341"
      ],
      "text/markdown": [
       "0.763052208835341"
      ],
      "text/plain": [
       "[1] 0.7630522"
      ]
     },
     "metadata": {},
     "output_type": "display_data"
    }
   ],
   "source": [
    "total_mut_res <- vcf.unagg %>% \n",
    "    filter(inh == \"R\",\n",
    "          variant == \"katG 315 S/T\" | # katG S315T\n",
    "          variant == \"35 K/E\"\n",
    "          ) %>%  \n",
    "    select(isolate) %>% \n",
    "    unique() %>% \n",
    "    nrow()\n",
    "\n",
    "sens = total_mut_res/249\n",
    "sens"
   ]
  },
  {
   "cell_type": "code",
   "execution_count": 99,
   "id": "unknown-element",
   "metadata": {},
   "outputs": [
    {
     "data": {
      "text/html": [
       "0.763052208835341"
      ],
      "text/latex": [
       "0.763052208835341"
      ],
      "text/markdown": [
       "0.763052208835341"
      ],
      "text/plain": [
       "[1] 0.7630522"
      ]
     },
     "metadata": {},
     "output_type": "display_data"
    }
   ],
   "source": [
    "total_mut_res <- vcf.unagg %>% \n",
    "    filter(inh == \"R\",\n",
    "           variant == \"katG 315 S/T\" | # katG S315T\n",
    "           variant == \"85 A/V\"\n",
    "          ) %>% \n",
    "    select(isolate) %>% \n",
    "    unique() %>% \n",
    "    nrow()\n",
    "\n",
    "sens = total_mut_res/249\n",
    "sens"
   ]
  },
  {
   "cell_type": "code",
   "execution_count": 100,
   "id": "determined-jesus",
   "metadata": {},
   "outputs": [
    {
     "data": {
      "text/html": [
       "0.763052208835341"
      ],
      "text/latex": [
       "0.763052208835341"
      ],
      "text/markdown": [
       "0.763052208835341"
      ],
      "text/plain": [
       "[1] 0.7630522"
      ]
     },
     "metadata": {},
     "output_type": "display_data"
    }
   ],
   "source": [
    "total_mut_res <- vcf.unagg %>% \n",
    "    filter(inh == \"R\",\n",
    "           variant == \"katG 315 S/T\" | # katG S315T\n",
    "           variant == \"70 S/T\"\n",
    "          ) %>% \n",
    "    select(isolate) %>% \n",
    "    unique() %>% \n",
    "    nrow()\n",
    "\n",
    "sens = total_mut_res/249\n",
    "sens"
   ]
  },
  {
   "cell_type": "code",
   "execution_count": 101,
   "id": "warming-bruce",
   "metadata": {},
   "outputs": [
    {
     "data": {
      "text/html": [
       "0.763052208835341"
      ],
      "text/latex": [
       "0.763052208835341"
      ],
      "text/markdown": [
       "0.763052208835341"
      ],
      "text/plain": [
       "[1] 0.7630522"
      ]
     },
     "metadata": {},
     "output_type": "display_data"
    }
   ],
   "source": [
    "total_mut_res <- vcf.unagg %>% \n",
    "    filter(inh == \"R\",\n",
    "           variant == \"katG 315 S/T\" | # katG S315T\n",
    "           variant == \"433 L/R\"\n",
    "          ) %>% \n",
    "    select(isolate) %>% \n",
    "    unique() %>% \n",
    "    nrow()\n",
    "\n",
    "sens = total_mut_res/249\n",
    "sens"
   ]
  },
  {
   "cell_type": "code",
   "execution_count": 102,
   "id": "written-editing",
   "metadata": {},
   "outputs": [
    {
     "data": {
      "text/html": [
       "0.887550200803213"
      ],
      "text/latex": [
       "0.887550200803213"
      ],
      "text/markdown": [
       "0.887550200803213"
      ],
      "text/plain": [
       "[1] 0.8875502"
      ]
     },
     "metadata": {},
     "output_type": "display_data"
    }
   ],
   "source": [
    "total_mut_res <- vcf.unagg %>% \n",
    "    filter(inh == \"R\",\n",
    "           variant == \"katG 315 S/T\" | # katG S315T\n",
    "           variant == \"lppB 59 H/N\"\n",
    "          ) %>% \n",
    "    select(isolate) %>% \n",
    "    unique() %>% \n",
    "    nrow()\n",
    "\n",
    "sens = total_mut_res/249\n",
    "sens"
   ]
  },
  {
   "cell_type": "code",
   "execution_count": 103,
   "id": "built-personality",
   "metadata": {},
   "outputs": [
    {
     "data": {
      "text/html": [
       "0.763052208835341"
      ],
      "text/latex": [
       "0.763052208835341"
      ],
      "text/markdown": [
       "0.763052208835341"
      ],
      "text/plain": [
       "[1] 0.7630522"
      ]
     },
     "metadata": {},
     "output_type": "display_data"
    }
   ],
   "source": [
    "total_mut_res <- vcf.unagg %>% \n",
    "    filter(inh == \"R\",\n",
    "           variant == \"katG 315 S/T\" | # katG S315T\n",
    "           variant == \"3 N/T\"\n",
    "          ) %>% \n",
    "    select(isolate) %>% \n",
    "    unique() %>% \n",
    "    nrow()\n",
    "\n",
    "sens = total_mut_res/249\n",
    "sens"
   ]
  },
  {
   "cell_type": "code",
   "execution_count": 104,
   "id": "featured-amazon",
   "metadata": {},
   "outputs": [
    {
     "data": {
      "text/html": [
       "0.763052208835341"
      ],
      "text/latex": [
       "0.763052208835341"
      ],
      "text/markdown": [
       "0.763052208835341"
      ],
      "text/plain": [
       "[1] 0.7630522"
      ]
     },
     "metadata": {},
     "output_type": "display_data"
    }
   ],
   "source": [
    "total_mut_res <- vcf.unagg %>% \n",
    "    filter(inh == \"R\",\n",
    "           variant == \"katG 315 S/T\" | # katG S315T\n",
    "           variant == \"378 N/D\"\n",
    "          ) %>% \n",
    "    select(isolate) %>% \n",
    "    unique() %>% \n",
    "    nrow()\n",
    "\n",
    "sens = total_mut_res/249\n",
    "sens"
   ]
  },
  {
   "cell_type": "code",
   "execution_count": 105,
   "id": "initial-westminster",
   "metadata": {
    "scrolled": true
   },
   "outputs": [
    {
     "data": {
      "text/html": [
       "0.831325301204819"
      ],
      "text/latex": [
       "0.831325301204819"
      ],
      "text/markdown": [
       "0.831325301204819"
      ],
      "text/plain": [
       "[1] 0.8313253"
      ]
     },
     "metadata": {},
     "output_type": "display_data"
    }
   ],
   "source": [
    "total_mut_res <- vcf.unagg %>% \n",
    "    filter(inh == \"R\",\n",
    "           variant == \"katG 315 S/T\" | # katG S315T\n",
    "           variant == \"PPE3 257 E/K\"\n",
    "          ) %>% \n",
    "    select(isolate) %>% \n",
    "    unique() %>% \n",
    "    nrow()\n",
    "\n",
    "sens = total_mut_res/249\n",
    "sens"
   ]
  },
  {
   "cell_type": "code",
   "execution_count": 106,
   "id": "recognized-motorcycle",
   "metadata": {},
   "outputs": [
    {
     "data": {
      "text/html": [
       "0.763052208835341"
      ],
      "text/latex": [
       "0.763052208835341"
      ],
      "text/markdown": [
       "0.763052208835341"
      ],
      "text/plain": [
       "[1] 0.7630522"
      ]
     },
     "metadata": {},
     "output_type": "display_data"
    }
   ],
   "source": [
    "total_mut_res <- vcf.unagg %>% \n",
    "    filter(inh == \"R\",\n",
    "           variant == \"katG 315 S/T\" | # katG S315T\n",
    "           variant == \"PE_PGRS18 NA\"\n",
    "          ) %>% \n",
    "    select(isolate) %>% \n",
    "    unique() %>% \n",
    "    nrow()\n",
    "\n",
    "sens = total_mut_res/249\n",
    "sens"
   ]
  },
  {
   "cell_type": "code",
   "execution_count": 107,
   "id": "dense-culture",
   "metadata": {},
   "outputs": [
    {
     "data": {
      "text/html": [
       "0.91566265060241"
      ],
      "text/latex": [
       "0.91566265060241"
      ],
      "text/markdown": [
       "0.91566265060241"
      ],
      "text/plain": [
       "[1] 0.9156627"
      ]
     },
     "metadata": {},
     "output_type": "display_data"
    }
   ],
   "source": [
    "# combine katG S315T, lppB H59N, PPE3 E257K\n",
    "total_mut_res <- vcf.unagg %>% \n",
    "    filter(inh == \"R\",\n",
    "           variant == \"katG 315 S/T\" | # katG S315T\n",
    "           variant == \"PPE3 257 E/K\" |\n",
    "           variant == \"lppB 59 H/N\"\n",
    "          ) %>% \n",
    "    select(isolate) %>% \n",
    "    unique() %>% \n",
    "    nrow()\n",
    "\n",
    "sens = total_mut_res/249\n",
    "sens"
   ]
  },
  {
   "cell_type": "code",
   "execution_count": 108,
   "id": "molecular-thumbnail",
   "metadata": {},
   "outputs": [
    {
     "data": {
      "text/html": [
       "<table>\n",
       "<caption>A data.frame: 6 × 21</caption>\n",
       "<thead>\n",
       "\t<tr><th></th><th scope=col>position</th><th scope=col>REF</th><th scope=col>ALT</th><th scope=col>consequence</th><th scope=col>gene</th><th scope=col>Rv.number</th><th scope=col>gene.position</th><th scope=col>protein.position</th><th scope=col>AA</th><th scope=col>total_mut</th><th scope=col>⋯</th><th scope=col>inh</th><th scope=col>lineages</th><th scope=col>TP</th><th scope=col>FP</th><th scope=col>TN</th><th scope=col>FN</th><th scope=col>sensitivity</th><th scope=col>specificity</th><th scope=col>variant</th><th scope=col>SS.average</th></tr>\n",
       "\t<tr><th></th><th scope=col>&lt;int&gt;</th><th scope=col>&lt;chr&gt;</th><th scope=col>&lt;chr&gt;</th><th scope=col>&lt;fct&gt;</th><th scope=col>&lt;fct&gt;</th><th scope=col>&lt;chr&gt;</th><th scope=col>&lt;dbl&gt;</th><th scope=col>&lt;dbl&gt;</th><th scope=col>&lt;chr&gt;</th><th scope=col>&lt;int&gt;</th><th scope=col>⋯</th><th scope=col>&lt;fct&gt;</th><th scope=col>&lt;int&gt;</th><th scope=col>&lt;int&gt;</th><th scope=col>&lt;int&gt;</th><th scope=col>&lt;dbl&gt;</th><th scope=col>&lt;dbl&gt;</th><th scope=col>&lt;dbl&gt;</th><th scope=col>&lt;dbl&gt;</th><th scope=col>&lt;chr&gt;</th><th scope=col>&lt;dbl&gt;</th></tr>\n",
       "</thead>\n",
       "<tbody>\n",
       "\t<tr><th scope=row>1</th><td>2155168</td><td>C</td><td>G</td><td>missense_variant</td><td>katG  </td><td>Rv1908c</td><td> 944</td><td>315</td><td>S/T</td><td>193</td><td>⋯</td><td>R</td><td>4</td><td>190</td><td> 3</td><td>247</td><td> 59</td><td>76.30522</td><td>98.8</td><td>katG 315 S/T </td><td>87.55261</td></tr>\n",
       "\t<tr><th scope=row>2</th><td> 761155</td><td>C</td><td>T</td><td>missense_variant</td><td>rpoB  </td><td>Rv0667 </td><td>1349</td><td>450</td><td>S/L</td><td>144</td><td>⋯</td><td>R</td><td>4</td><td>139</td><td> 5</td><td>245</td><td>110</td><td>55.82329</td><td>98.0</td><td>rpoB 450 S/L </td><td>76.91165</td></tr>\n",
       "\t<tr><th scope=row>3</th><td> 105007</td><td>C</td><td>G</td><td>missense_variant</td><td>      </td><td>Rv0095c</td><td> 209</td><td> 70</td><td>S/T</td><td>208</td><td>⋯</td><td>R</td><td>6</td><td>164</td><td>44</td><td>206</td><td> 85</td><td>65.86345</td><td>82.4</td><td> 70 S/T      </td><td>74.13173</td></tr>\n",
       "\t<tr><th scope=row>4</th><td>1151304</td><td>C</td><td>A</td><td>missense_variant</td><td>kdpD  </td><td>Rv1028c</td><td> 383</td><td>128</td><td>R/L</td><td>147</td><td>⋯</td><td>R</td><td>3</td><td>133</td><td>14</td><td>236</td><td>116</td><td>53.41365</td><td>94.4</td><td>kdpD 128 R/L </td><td>73.90683</td></tr>\n",
       "\t<tr><th scope=row>5</th><td> 484005</td><td>G</td><td>T</td><td>missense_variant</td><td>fadD30</td><td>Rv0404 </td><td>  29</td><td> 10</td><td>R/L</td><td>147</td><td>⋯</td><td>R</td><td>3</td><td>133</td><td>14</td><td>236</td><td>116</td><td>53.41365</td><td>94.4</td><td>fadD30 10 R/L</td><td>73.90683</td></tr>\n",
       "\t<tr><th scope=row>6</th><td>1446733</td><td>G</td><td>A</td><td>missense_variant</td><td>argS  </td><td>Rv1292 </td><td> 355</td><td>119</td><td>A/T</td><td>147</td><td>⋯</td><td>R</td><td>3</td><td>133</td><td>14</td><td>236</td><td>116</td><td>53.41365</td><td>94.4</td><td>argS 119 A/T </td><td>73.90683</td></tr>\n",
       "</tbody>\n",
       "</table>\n"
      ],
      "text/latex": [
       "A data.frame: 6 × 21\n",
       "\\begin{tabular}{r|lllllllllllllllllllll}\n",
       "  & position & REF & ALT & consequence & gene & Rv.number & gene.position & protein.position & AA & total\\_mut & ⋯ & inh & lineages & TP & FP & TN & FN & sensitivity & specificity & variant & SS.average\\\\\n",
       "  & <int> & <chr> & <chr> & <fct> & <fct> & <chr> & <dbl> & <dbl> & <chr> & <int> & ⋯ & <fct> & <int> & <int> & <int> & <dbl> & <dbl> & <dbl> & <dbl> & <chr> & <dbl>\\\\\n",
       "\\hline\n",
       "\t1 & 2155168 & C & G & missense\\_variant & katG   & Rv1908c &  944 & 315 & S/T & 193 & ⋯ & R & 4 & 190 &  3 & 247 &  59 & 76.30522 & 98.8 & katG 315 S/T  & 87.55261\\\\\n",
       "\t2 &  761155 & C & T & missense\\_variant & rpoB   & Rv0667  & 1349 & 450 & S/L & 144 & ⋯ & R & 4 & 139 &  5 & 245 & 110 & 55.82329 & 98.0 & rpoB 450 S/L  & 76.91165\\\\\n",
       "\t3 &  105007 & C & G & missense\\_variant &        & Rv0095c &  209 &  70 & S/T & 208 & ⋯ & R & 6 & 164 & 44 & 206 &  85 & 65.86345 & 82.4 &  70 S/T       & 74.13173\\\\\n",
       "\t4 & 1151304 & C & A & missense\\_variant & kdpD   & Rv1028c &  383 & 128 & R/L & 147 & ⋯ & R & 3 & 133 & 14 & 236 & 116 & 53.41365 & 94.4 & kdpD 128 R/L  & 73.90683\\\\\n",
       "\t5 &  484005 & G & T & missense\\_variant & fadD30 & Rv0404  &   29 &  10 & R/L & 147 & ⋯ & R & 3 & 133 & 14 & 236 & 116 & 53.41365 & 94.4 & fadD30 10 R/L & 73.90683\\\\\n",
       "\t6 & 1446733 & G & A & missense\\_variant & argS   & Rv1292  &  355 & 119 & A/T & 147 & ⋯ & R & 3 & 133 & 14 & 236 & 116 & 53.41365 & 94.4 & argS 119 A/T  & 73.90683\\\\\n",
       "\\end{tabular}\n"
      ],
      "text/markdown": [
       "\n",
       "A data.frame: 6 × 21\n",
       "\n",
       "| <!--/--> | position &lt;int&gt; | REF &lt;chr&gt; | ALT &lt;chr&gt; | consequence &lt;fct&gt; | gene &lt;fct&gt; | Rv.number &lt;chr&gt; | gene.position &lt;dbl&gt; | protein.position &lt;dbl&gt; | AA &lt;chr&gt; | total_mut &lt;int&gt; | ⋯ ⋯ | inh &lt;fct&gt; | lineages &lt;int&gt; | TP &lt;int&gt; | FP &lt;int&gt; | TN &lt;dbl&gt; | FN &lt;dbl&gt; | sensitivity &lt;dbl&gt; | specificity &lt;dbl&gt; | variant &lt;chr&gt; | SS.average &lt;dbl&gt; |\n",
       "|---|---|---|---|---|---|---|---|---|---|---|---|---|---|---|---|---|---|---|---|---|---|\n",
       "| 1 | 2155168 | C | G | missense_variant | katG   | Rv1908c |  944 | 315 | S/T | 193 | ⋯ | R | 4 | 190 |  3 | 247 |  59 | 76.30522 | 98.8 | katG 315 S/T  | 87.55261 |\n",
       "| 2 |  761155 | C | T | missense_variant | rpoB   | Rv0667  | 1349 | 450 | S/L | 144 | ⋯ | R | 4 | 139 |  5 | 245 | 110 | 55.82329 | 98.0 | rpoB 450 S/L  | 76.91165 |\n",
       "| 3 |  105007 | C | G | missense_variant | <!----> | Rv0095c |  209 |  70 | S/T | 208 | ⋯ | R | 6 | 164 | 44 | 206 |  85 | 65.86345 | 82.4 |  70 S/T       | 74.13173 |\n",
       "| 4 | 1151304 | C | A | missense_variant | kdpD   | Rv1028c |  383 | 128 | R/L | 147 | ⋯ | R | 3 | 133 | 14 | 236 | 116 | 53.41365 | 94.4 | kdpD 128 R/L  | 73.90683 |\n",
       "| 5 |  484005 | G | T | missense_variant | fadD30 | Rv0404  |   29 |  10 | R/L | 147 | ⋯ | R | 3 | 133 | 14 | 236 | 116 | 53.41365 | 94.4 | fadD30 10 R/L | 73.90683 |\n",
       "| 6 | 1446733 | G | A | missense_variant | argS   | Rv1292  |  355 | 119 | A/T | 147 | ⋯ | R | 3 | 133 | 14 | 236 | 116 | 53.41365 | 94.4 | argS 119 A/T  | 73.90683 |\n",
       "\n"
      ],
      "text/plain": [
       "  position REF ALT consequence      gene   Rv.number gene.position\n",
       "1 2155168  C   G   missense_variant katG   Rv1908c    944         \n",
       "2  761155  C   T   missense_variant rpoB   Rv0667    1349         \n",
       "3  105007  C   G   missense_variant        Rv0095c    209         \n",
       "4 1151304  C   A   missense_variant kdpD   Rv1028c    383         \n",
       "5  484005  G   T   missense_variant fadD30 Rv0404      29         \n",
       "6 1446733  G   A   missense_variant argS   Rv1292     355         \n",
       "  protein.position AA  total_mut ⋯ inh lineages TP  FP TN  FN  sensitivity\n",
       "1 315              S/T 193       ⋯ R   4        190  3 247  59 76.30522   \n",
       "2 450              S/L 144       ⋯ R   4        139  5 245 110 55.82329   \n",
       "3  70              S/T 208       ⋯ R   6        164 44 206  85 65.86345   \n",
       "4 128              R/L 147       ⋯ R   3        133 14 236 116 53.41365   \n",
       "5  10              R/L 147       ⋯ R   3        133 14 236 116 53.41365   \n",
       "6 119              A/T 147       ⋯ R   3        133 14 236 116 53.41365   \n",
       "  specificity variant       SS.average\n",
       "1 98.8        katG 315 S/T  87.55261  \n",
       "2 98.0        rpoB 450 S/L  76.91165  \n",
       "3 82.4         70 S/T       74.13173  \n",
       "4 94.4        kdpD 128 R/L  73.90683  \n",
       "5 94.4        fadD30 10 R/L 73.90683  \n",
       "6 94.4        argS 119 A/T  73.90683  "
      ]
     },
     "metadata": {},
     "output_type": "display_data"
    }
   ],
   "source": [
    "vcf.agg.filt %<>% mutate(SS.average = (sensitivity + specificity)/2) %>% \n",
    "    arrange(desc(SS.average))\n",
    "\n",
    "head(vcf.agg.filt)"
   ]
  },
  {
   "cell_type": "code",
   "execution_count": 109,
   "id": "outdoor-batman",
   "metadata": {},
   "outputs": [
    {
     "data": {
      "text/html": [
       "0.919678714859438"
      ],
      "text/latex": [
       "0.919678714859438"
      ],
      "text/markdown": [
       "0.919678714859438"
      ],
      "text/plain": [
       "[1] 0.9196787"
      ]
     },
     "metadata": {},
     "output_type": "display_data"
    }
   ],
   "source": [
    "total_mut_res <- vcf.unagg %>% \n",
    "    mutate(variant = paste(gene,protein.position, AA)) %>% \n",
    "    filter(inh == \"R\",\n",
    "           variant == \"katG 315 S/T\" | \n",
    "           variant == \"PPE3 257 E/K\" |\n",
    "           variant == \"lppB 59 H/N\"  |\n",
    "           variant == \"rpoB 450 S/L\"\n",
    "          ) %>% \n",
    "    select(isolate) %>% \n",
    "    unique() %>% \n",
    "    nrow()\n",
    "\n",
    "sens = total_mut_res/249\n",
    "sens"
   ]
  },
  {
   "cell_type": "code",
   "execution_count": 110,
   "id": "destroyed-denver",
   "metadata": {
    "scrolled": true
   },
   "outputs": [
    {
     "data": {
      "text/html": [
       "<table>\n",
       "<caption>A data.frame: 6 × 21</caption>\n",
       "<thead>\n",
       "\t<tr><th></th><th scope=col>position</th><th scope=col>REF</th><th scope=col>ALT</th><th scope=col>consequence</th><th scope=col>gene</th><th scope=col>Rv.number</th><th scope=col>gene.position</th><th scope=col>protein.position</th><th scope=col>AA</th><th scope=col>total_mut</th><th scope=col>⋯</th><th scope=col>inh</th><th scope=col>lineages</th><th scope=col>TP</th><th scope=col>FP</th><th scope=col>TN</th><th scope=col>FN</th><th scope=col>sensitivity</th><th scope=col>specificity</th><th scope=col>variant</th><th scope=col>SS.average</th></tr>\n",
       "\t<tr><th></th><th scope=col>&lt;int&gt;</th><th scope=col>&lt;chr&gt;</th><th scope=col>&lt;chr&gt;</th><th scope=col>&lt;fct&gt;</th><th scope=col>&lt;fct&gt;</th><th scope=col>&lt;chr&gt;</th><th scope=col>&lt;dbl&gt;</th><th scope=col>&lt;dbl&gt;</th><th scope=col>&lt;chr&gt;</th><th scope=col>&lt;int&gt;</th><th scope=col>⋯</th><th scope=col>&lt;fct&gt;</th><th scope=col>&lt;int&gt;</th><th scope=col>&lt;int&gt;</th><th scope=col>&lt;int&gt;</th><th scope=col>&lt;dbl&gt;</th><th scope=col>&lt;dbl&gt;</th><th scope=col>&lt;dbl&gt;</th><th scope=col>&lt;dbl&gt;</th><th scope=col>&lt;chr&gt;</th><th scope=col>&lt;dbl&gt;</th></tr>\n",
       "</thead>\n",
       "<tbody>\n",
       "\t<tr><th scope=row>1</th><td>2165286</td><td>A </td><td>C         </td><td>missense_variant     </td><td>PPE34    </td><td>Rv1917c</td><td>2026</td><td> 676</td><td>S/A  </td><td>484</td><td>⋯</td><td>R</td><td>5</td><td>248</td><td>236</td><td>14</td><td>1</td><td>99.59839</td><td>5.6</td><td>PPE34 676 S/A     </td><td>52.59920</td></tr>\n",
       "\t<tr><th scope=row>2</th><td>1728837</td><td>A </td><td>G         </td><td>upstream_gene_variant</td><td>pks5     </td><td>Rv1527c</td><td>  NA</td><td>  NA</td><td>     </td><td>490</td><td>⋯</td><td>R</td><td>6</td><td>248</td><td>242</td><td> 8</td><td>1</td><td>99.59839</td><td>3.2</td><td>pks5 NA           </td><td>51.39920</td></tr>\n",
       "\t<tr><th scope=row>3</th><td>2415656</td><td>G </td><td>C         </td><td>missense_variant     </td><td>murD     </td><td>Rv2155c</td><td> 739</td><td> 247</td><td>R/G  </td><td>489</td><td>⋯</td><td>R</td><td>6</td><td>246</td><td>243</td><td> 7</td><td>3</td><td>98.79518</td><td>2.8</td><td>murD 247 R/G      </td><td>50.79759</td></tr>\n",
       "\t<tr><th scope=row>4</th><td>3746409</td><td>A </td><td>G         </td><td>missense_variant     </td><td>PPE55    </td><td>Rv3347c</td><td>6776</td><td>2259</td><td>L/P  </td><td>481</td><td>⋯</td><td>R</td><td>6</td><td>245</td><td>236</td><td>14</td><td>4</td><td>98.39357</td><td>5.6</td><td>PPE55 2259 L/P    </td><td>51.99679</td></tr>\n",
       "\t<tr><th scope=row>5</th><td> 968426</td><td>A </td><td>AGCCGGGTTG</td><td>inframe_insertion    </td><td>PE_PGRS15</td><td>Rv0872c</td><td>  NA</td><td>  NA</td><td>-/QPG</td><td>486</td><td>⋯</td><td>R</td><td>6</td><td>245</td><td>241</td><td> 9</td><td>4</td><td>98.39357</td><td>3.6</td><td>PE_PGRS15 NA -/QPG</td><td>50.99679</td></tr>\n",
       "\t<tr><th scope=row>6</th><td>4338595</td><td>GC</td><td>G         </td><td>upstream_gene_variant</td><td>whiB6    </td><td>Rv3862c</td><td>  NA</td><td>  NA</td><td>     </td><td>487</td><td>⋯</td><td>R</td><td>6</td><td>245</td><td>242</td><td> 8</td><td>4</td><td>98.39357</td><td>3.2</td><td>whiB6 NA          </td><td>50.79679</td></tr>\n",
       "</tbody>\n",
       "</table>\n"
      ],
      "text/latex": [
       "A data.frame: 6 × 21\n",
       "\\begin{tabular}{r|lllllllllllllllllllll}\n",
       "  & position & REF & ALT & consequence & gene & Rv.number & gene.position & protein.position & AA & total\\_mut & ⋯ & inh & lineages & TP & FP & TN & FN & sensitivity & specificity & variant & SS.average\\\\\n",
       "  & <int> & <chr> & <chr> & <fct> & <fct> & <chr> & <dbl> & <dbl> & <chr> & <int> & ⋯ & <fct> & <int> & <int> & <int> & <dbl> & <dbl> & <dbl> & <dbl> & <chr> & <dbl>\\\\\n",
       "\\hline\n",
       "\t1 & 2165286 & A  & C          & missense\\_variant      & PPE34     & Rv1917c & 2026 &  676 & S/A   & 484 & ⋯ & R & 5 & 248 & 236 & 14 & 1 & 99.59839 & 5.6 & PPE34 676 S/A      & 52.59920\\\\\n",
       "\t2 & 1728837 & A  & G          & upstream\\_gene\\_variant & pks5      & Rv1527c &   NA &   NA &       & 490 & ⋯ & R & 6 & 248 & 242 &  8 & 1 & 99.59839 & 3.2 & pks5 NA            & 51.39920\\\\\n",
       "\t3 & 2415656 & G  & C          & missense\\_variant      & murD      & Rv2155c &  739 &  247 & R/G   & 489 & ⋯ & R & 6 & 246 & 243 &  7 & 3 & 98.79518 & 2.8 & murD 247 R/G       & 50.79759\\\\\n",
       "\t4 & 3746409 & A  & G          & missense\\_variant      & PPE55     & Rv3347c & 6776 & 2259 & L/P   & 481 & ⋯ & R & 6 & 245 & 236 & 14 & 4 & 98.39357 & 5.6 & PPE55 2259 L/P     & 51.99679\\\\\n",
       "\t5 &  968426 & A  & AGCCGGGTTG & inframe\\_insertion     & PE\\_PGRS15 & Rv0872c &   NA &   NA & -/QPG & 486 & ⋯ & R & 6 & 245 & 241 &  9 & 4 & 98.39357 & 3.6 & PE\\_PGRS15 NA -/QPG & 50.99679\\\\\n",
       "\t6 & 4338595 & GC & G          & upstream\\_gene\\_variant & whiB6     & Rv3862c &   NA &   NA &       & 487 & ⋯ & R & 6 & 245 & 242 &  8 & 4 & 98.39357 & 3.2 & whiB6 NA           & 50.79679\\\\\n",
       "\\end{tabular}\n"
      ],
      "text/markdown": [
       "\n",
       "A data.frame: 6 × 21\n",
       "\n",
       "| <!--/--> | position &lt;int&gt; | REF &lt;chr&gt; | ALT &lt;chr&gt; | consequence &lt;fct&gt; | gene &lt;fct&gt; | Rv.number &lt;chr&gt; | gene.position &lt;dbl&gt; | protein.position &lt;dbl&gt; | AA &lt;chr&gt; | total_mut &lt;int&gt; | ⋯ ⋯ | inh &lt;fct&gt; | lineages &lt;int&gt; | TP &lt;int&gt; | FP &lt;int&gt; | TN &lt;dbl&gt; | FN &lt;dbl&gt; | sensitivity &lt;dbl&gt; | specificity &lt;dbl&gt; | variant &lt;chr&gt; | SS.average &lt;dbl&gt; |\n",
       "|---|---|---|---|---|---|---|---|---|---|---|---|---|---|---|---|---|---|---|---|---|---|\n",
       "| 1 | 2165286 | A  | C          | missense_variant      | PPE34     | Rv1917c | 2026 |  676 | S/A   | 484 | ⋯ | R | 5 | 248 | 236 | 14 | 1 | 99.59839 | 5.6 | PPE34 676 S/A      | 52.59920 |\n",
       "| 2 | 1728837 | A  | G          | upstream_gene_variant | pks5      | Rv1527c |   NA |   NA | <!----> | 490 | ⋯ | R | 6 | 248 | 242 |  8 | 1 | 99.59839 | 3.2 | pks5 NA            | 51.39920 |\n",
       "| 3 | 2415656 | G  | C          | missense_variant      | murD      | Rv2155c |  739 |  247 | R/G   | 489 | ⋯ | R | 6 | 246 | 243 |  7 | 3 | 98.79518 | 2.8 | murD 247 R/G       | 50.79759 |\n",
       "| 4 | 3746409 | A  | G          | missense_variant      | PPE55     | Rv3347c | 6776 | 2259 | L/P   | 481 | ⋯ | R | 6 | 245 | 236 | 14 | 4 | 98.39357 | 5.6 | PPE55 2259 L/P     | 51.99679 |\n",
       "| 5 |  968426 | A  | AGCCGGGTTG | inframe_insertion     | PE_PGRS15 | Rv0872c |   NA |   NA | -/QPG | 486 | ⋯ | R | 6 | 245 | 241 |  9 | 4 | 98.39357 | 3.6 | PE_PGRS15 NA -/QPG | 50.99679 |\n",
       "| 6 | 4338595 | GC | G          | upstream_gene_variant | whiB6     | Rv3862c |   NA |   NA | <!----> | 487 | ⋯ | R | 6 | 245 | 242 |  8 | 4 | 98.39357 | 3.2 | whiB6 NA           | 50.79679 |\n",
       "\n"
      ],
      "text/plain": [
       "  position REF ALT        consequence           gene      Rv.number\n",
       "1 2165286  A   C          missense_variant      PPE34     Rv1917c  \n",
       "2 1728837  A   G          upstream_gene_variant pks5      Rv1527c  \n",
       "3 2415656  G   C          missense_variant      murD      Rv2155c  \n",
       "4 3746409  A   G          missense_variant      PPE55     Rv3347c  \n",
       "5  968426  A   AGCCGGGTTG inframe_insertion     PE_PGRS15 Rv0872c  \n",
       "6 4338595  GC  G          upstream_gene_variant whiB6     Rv3862c  \n",
       "  gene.position protein.position AA    total_mut ⋯ inh lineages TP  FP  TN FN\n",
       "1 2026           676             S/A   484       ⋯ R   5        248 236 14 1 \n",
       "2   NA            NA                   490       ⋯ R   6        248 242  8 1 \n",
       "3  739           247             R/G   489       ⋯ R   6        246 243  7 3 \n",
       "4 6776          2259             L/P   481       ⋯ R   6        245 236 14 4 \n",
       "5   NA            NA             -/QPG 486       ⋯ R   6        245 241  9 4 \n",
       "6   NA            NA                   487       ⋯ R   6        245 242  8 4 \n",
       "  sensitivity specificity variant            SS.average\n",
       "1 99.59839    5.6         PPE34 676 S/A      52.59920  \n",
       "2 99.59839    3.2         pks5 NA            51.39920  \n",
       "3 98.79518    2.8         murD 247 R/G       50.79759  \n",
       "4 98.39357    5.6         PPE55 2259 L/P     51.99679  \n",
       "5 98.39357    3.6         PE_PGRS15 NA -/QPG 50.99679  \n",
       "6 98.39357    3.2         whiB6 NA           50.79679  "
      ]
     },
     "metadata": {},
     "output_type": "display_data"
    }
   ],
   "source": [
    "vcf.agg.filt %<>% arrange(desc(sensitivity))\n",
    "\n",
    "head(vcf.agg.filt)"
   ]
  },
  {
   "cell_type": "code",
   "execution_count": 115,
   "id": "realistic-julian",
   "metadata": {},
   "outputs": [
    {
     "data": {
      "text/html": [
       "0.91566265060241"
      ],
      "text/latex": [
       "0.91566265060241"
      ],
      "text/markdown": [
       "0.91566265060241"
      ],
      "text/plain": [
       "[1] 0.9156627"
      ]
     },
     "metadata": {},
     "output_type": "display_data"
    }
   ],
   "source": [
    "total_mut_res <- vcf.unagg %>% \n",
    "    mutate(variant = paste(gene,protein.position, AA)) %>% \n",
    "    filter(inh == \"R\",\n",
    "           variant == \"katG 315 S/T\" | \n",
    "           variant == \"PPE3 257 E/K\" |\n",
    "           variant == \"lppB 59 H/N\"  #|\n",
    "           #variant == \"PPE34 676 S/A\"\n",
    "          ) %>% \n",
    "    select(isolate) %>% \n",
    "    unique() %>% \n",
    "    nrow()\n",
    "\n",
    "sens = total_mut_res/249\n",
    "sens"
   ]
  },
  {
   "cell_type": "markdown",
   "id": "structured-median",
   "metadata": {},
   "source": [
    "all 4 variants 0.987951807228916<br>\n",
    "-lpp 0.983935742971888<br>\n",
    "-ppe3 0.975903614457831<br>\n",
    "-ppe34 0.91566265060241<br>\n",
    "-> keep katG, ppe3, and ppe34"
   ]
  },
  {
   "cell_type": "code",
   "execution_count": 121,
   "id": "affecting-annex",
   "metadata": {},
   "outputs": [
    {
     "data": {
      "text/html": [
       "0.983935742971888"
      ],
      "text/latex": [
       "0.983935742971888"
      ],
      "text/markdown": [
       "0.983935742971888"
      ],
      "text/plain": [
       "[1] 0.9839357"
      ]
     },
     "metadata": {},
     "output_type": "display_data"
    },
    {
     "data": {
      "text/html": [
       "0.104"
      ],
      "text/latex": [
       "0.104"
      ],
      "text/markdown": [
       "0.104"
      ],
      "text/plain": [
       "[1] 0.104"
      ]
     },
     "metadata": {},
     "output_type": "display_data"
    }
   ],
   "source": [
    "total_mut <- vcf.unagg %>% \n",
    "    mutate(variant = paste(gene,protein.position, AA)) %>% \n",
    "    filter(variant == \"katG 315 S/T\" | \n",
    "           variant == \"PPE3 257 E/K\" |\n",
    "           #variant == \"lppB 59 H/N\"  |\n",
    "           variant == \"PPE34 676 S/A\"\n",
    "          ) %>% \n",
    "    select(isolate) %>% \n",
    "    unique() %>% \n",
    "    nrow()\n",
    "\n",
    "total_mut_res <- vcf.unagg %>% \n",
    "    mutate(variant = paste(gene,protein.position, AA)) %>% \n",
    "    filter(inh == \"R\",\n",
    "           variant == \"katG 315 S/T\" | \n",
    "           variant == \"PPE3 257 E/K\" |\n",
    "           #variant == \"lppB 59 H/N\"  |\n",
    "           variant == \"PPE34 676 S/A\"\n",
    "          ) %>% \n",
    "    select(isolate) %>% \n",
    "    unique() %>% \n",
    "    nrow()\n",
    "\n",
    "sens = total_mut_res/249\n",
    "sens\n",
    "\n",
    "spec = (250 - (total_mut - total_mut_res))/250\n",
    "spec"
   ]
  }
 ],
 "metadata": {
  "kernelspec": {
   "display_name": "R",
   "language": "R",
   "name": "ir"
  },
  "language_info": {
   "codemirror_mode": "r",
   "file_extension": ".r",
   "mimetype": "text/x-r-source",
   "name": "R",
   "pygments_lexer": "r",
   "version": "4.0.4"
  }
 },
 "nbformat": 4,
 "nbformat_minor": 5
}
